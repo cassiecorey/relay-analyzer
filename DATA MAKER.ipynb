{
 "cells": [
  {
   "cell_type": "markdown",
   "metadata": {},
   "source": [
    "# Collecting exit relay data\n",
    "\n",
    "Relay properties we're collecting:\n",
    "- __Fingerprint__: relay unique identifier\n",
    "- __Bandwidth__: observed bandwidth\n",
    "- __Age__: # seconds since this relay was first seen\n",
    "- __Family Size__: number of relays reported in effective family\n",
    "- __AS__: the autonomous system this relay belongs to\n",
    "- __Uptime__: time since last restart of this relay\n",
    "- __Consensus Weight__: weight as a fraction of the whole network\n",
    "- __Port/Address uptime__: time since relay changed its port or address\n",
    "- __Country__: the country this relay is located in\n",
    "- __Ports accepted__: the number of ports this relay accepts connections on\n",
    "\n",
    "We also collect which flags are present in each relay description:\n",
    "- __Exit__: Is it an exit relay? (always 1)\n",
    "- __Fast__: Does it have a lot of bandwidth available?\n",
    "- __Running__: Has it been online in the past 45 minutes?\n",
    "- __Stable__: Is it suitable for long-lived circuits?\n",
    "- __Guard__: Is it a guard relay?\n"
   ]
  },
  {
   "cell_type": "markdown",
   "metadata": {},
   "source": [
    "*** IMPORTANT YOU MUST RUN THIS BLOCK TO GET THE NECESSARY IMPORTS AND HELPER METHODS ***"
   ]
  },
  {
   "cell_type": "code",
   "execution_count": 1,
   "metadata": {
    "collapsed": false
   },
   "outputs": [],
   "source": [
    "%matplotlib inline\n",
    "\n",
    "import matplotlib\n",
    "import numpy as np\n",
    "import matplotlib.pyplot as plt\n",
    "\n",
    "import requests, datetime, statistics, math, json\n",
    "import pandas as pd\n",
    "\n",
    "import plotly.plotly as py\n",
    "from plotly.graph_objs import *\n",
    "\n",
    "onionoo_url = \"https://onionoo.torproject.org/\"\n",
    "\n",
    "# Need this function to convert port-ranges into arrays\n",
    "def mixrange(arr):\n",
    "    r = []\n",
    "    for i in arr:\n",
    "        if '-' not in i:\n",
    "            r.append(int(i))\n",
    "        else:\n",
    "            l,h = map(int, i.split('-'))\n",
    "            r+= range(l,h+1)\n",
    "    return r\n",
    "\n",
    "# Need this function to compute the age of a given relay\n",
    "def compute_age(relay):\n",
    "    if not 'first_seen' in relay or not 'last_seen' in relay:\n",
    "        return None\n",
    "    first_seen = datetime.datetime.strptime(relay['first_seen'],\"%Y-%m-%d %H:%M:%S\")\n",
    "    last_seen = datetime.datetime.strptime(relay['last_seen'],\"%Y-%m-%d %H:%M:%S\")\n",
    "    age = (last_seen - first_seen).total_seconds()\n",
    "    return age\n",
    "\n",
    "def compute_open_ports(relay):\n",
    "    if not 'exit_policy_summary' in relay:\n",
    "        return None\n",
    "    for policy in relay['exit_policy_summary']:\n",
    "        if policy == 'accept':\n",
    "            ports =  len(mixrange(relay['exit_policy_summary'][policy]))\n",
    "        elif policy == 'reject':\n",
    "            ports = 65535 - len(mixrange(relay['exit_policy_summary'][policy]))\n",
    "    return ports\n",
    "\n",
    "def compute_uptime(relay, pulled):\n",
    "    if not 'last_restarted' in relay:\n",
    "        return None\n",
    "    last_restart = datetime.datetime.strptime(relay['last_restarted'],\"%Y-%m-%d %H:%M:%S\")\n",
    "    return (pulled-last_restart).total_seconds()\n",
    "\n",
    "def compute_addr_port_uptime(relay, pulled):\n",
    "    if not 'last_changed_address_or_port' in relay:\n",
    "        return None\n",
    "    last_change = datetime.datetime.strptime(relay['last_changed_address_or_port'],\"%Y-%m-%d %H:%M:%S\")\n",
    "    return (pulled-last_change).total_seconds()\n",
    "\n",
    "def normalize(x):\n",
    "    return (x - x.mean()) / (x.max() - x.min())\n",
    "\n",
    "def log_normalize(df, columns):\n",
    "    # Drop any 0's\n",
    "    size = len(df)\n",
    "    for col in columns:\n",
    "        df = df[df[col]>0]\n",
    "    print(\"Dropped %d rows.\"%(size-len(df)))\n",
    "    \n",
    "    for col in columns:\n",
    "        df[col] = normalize(df[col].apply(lambda x: math.log(abs(x))))\n",
    "    return df\n",
    "\n",
    "def plot_feature(allDF, exitDF, guardDF, feature_x, feature_y):\n",
    "    fig = plt.figure()\n",
    "    ax1 = fig.add_subplot(111)\n",
    "    ax1.scatter(allDF[feature_x], allDF[feature_y], c='b', label='all',alpha=0.3)\n",
    "    ax1.scatter(exitDF[feature_x], exitDF[feature_y], c='r', label='exit',alpha=0.3)\n",
    "    ax1.scatter(guardDF[feature_x], guardDF[feature_y],c='g',label='guard',alpha=0.3)\n",
    "    plt.legend(loc='upper left')\n",
    "    plt.title(\"%s vs. %s\"%(feature_x,feature_y))\n",
    "    plt.xlabel(feature_x)\n",
    "    plt.ylabel(feature_y)\n",
    "    fig.savefig('./images/%s_v_%s.png'%(feature_x,feature_y),dpi=1000)\n",
    "    plt.show()"
   ]
  },
  {
   "cell_type": "markdown",
   "metadata": {},
   "source": [
    "## Relay Details:\n",
    "\n",
    "There are several ways to construct the relay data make sure to look and choose carefully before running any of the blocks below."
   ]
  },
  {
   "cell_type": "markdown",
   "metadata": {},
   "source": [
    "### Run this block to collect data using onionoo requests\n",
    "\n",
    "This is good if you don't have any saved .json responses from Onionoo.org or if you just want to pull down a more recent response."
   ]
  },
  {
   "cell_type": "code",
   "execution_count": null,
   "metadata": {
    "collapsed": false
   },
   "outputs": [],
   "source": [
    "# Used to filter the results so that they only contain these fields\n",
    "url = onionoo_url+\"details?limit=500&type=relay&flag=Exit\"\n",
    "response = requests.get(url).json()\n",
    "print(response.status_code)"
   ]
  },
  {
   "cell_type": "markdown",
   "metadata": {},
   "source": [
    "### Run this block to load data from a .json file\n",
    "\n",
    "This is best if you already have a response from Onionoo.org that you'd like to use."
   ]
  },
  {
   "cell_type": "code",
   "execution_count": 109,
   "metadata": {
    "collapsed": false
   },
   "outputs": [],
   "source": [
    "with open('sample-12-18-16.json') as json_data:\n",
    "    response = json.load(json_data)"
   ]
  },
  {
   "cell_type": "markdown",
   "metadata": {},
   "source": [
    "### Run this block to build the relay DataFrame\n",
    "\n",
    "Whether you got the response from requests or by loading a .json, you need to run this to parse the json into a DataFrame object. "
   ]
  },
  {
   "cell_type": "code",
   "execution_count": null,
   "metadata": {
    "collapsed": false
   },
   "outputs": [],
   "source": [
    "columns=['fingerprint',\n",
    "         'nickname',\n",
    "         'bandwidth',\n",
    "         'age',\n",
    "         'family_size',\n",
    "         'as_number',\n",
    "         'consensus_weight',\n",
    "         'ports_accepted',\n",
    "         'uptime',\n",
    "         'address_port_uptime',\n",
    "         'badexit',\n",
    "         'exit',\n",
    "         'fast',\n",
    "         'guard',\n",
    "         'hsdir',\n",
    "         'stable',\n",
    "         'running',\n",
    "         'valid']\n",
    "\n",
    "relayDF = pd.DataFrame(columns=columns)\n",
    "\n",
    "for relay in response['relays']:\n",
    "    row = [None]*len(columns)\n",
    "    \n",
    "    # IDENTIFIERS\n",
    "    row[0] = relay['fingerprint'] if 'fingerprint' in relay else None\n",
    "    row[1] = relay['nickname'] if 'nickname' in relay else None\n",
    "    \n",
    "    # NETWORK PROPERTIES\n",
    "    row[2] = relay['advertised_bandwidth'] if 'advertised_bandwidth' in relay else None\n",
    "    row[3] = compute_age(relay)\n",
    "    row[4] = len(relay['effective_family']) if 'effective_family' in relay else None\n",
    "    row[5] = relay['as_number'] if 'as_number' in relay else None\n",
    "    row[6] = relay['consensus_weight_fraction'] if 'consensus_weight_fraction' in relay else None\n",
    "    row[7] = compute_open_ports(relay)\n",
    "    row[8] = compute_uptime(relay)\n",
    "    row[9] = compute_addr_port_uptime(relay)\n",
    "    \n",
    "    # FLAGS\n",
    "    if 'flags' in relay:\n",
    "        row[10] = int('BadExit' in relay['flags'])\n",
    "        row[11] = int('Exit' in relay['flags'])\n",
    "        row[12] = int('Fast' in relay['flags'])\n",
    "        row[13] = int('Guard' in relay['flags'])\n",
    "        row[14] = int('HSDir' in relay['flags'])\n",
    "        row[15] = int('Stable' in relay['flags'])\n",
    "        row[16] = int('Running' in relay['flags'])\n",
    "        row[17] = int('Valid' in relay['flags'])\n",
    "    \n",
    "    relayDF = relayDF.append(pd.DataFrame([row],columns=columns))\n",
    "relayDF.reset_index(drop=True,inplace=True)\n",
    "relayDF.head()"
   ]
  },
  {
   "cell_type": "code",
   "execution_count": null,
   "metadata": {
    "collapsed": false
   },
   "outputs": [],
   "source": [
    "# How many did we get?\n",
    "len(relayDF)"
   ]
  },
  {
   "cell_type": "markdown",
   "metadata": {},
   "source": [
    "#### VERSION 2.0 - MORE FIELDS"
   ]
  },
  {
   "cell_type": "code",
   "execution_count": 110,
   "metadata": {
    "collapsed": false
   },
   "outputs": [
    {
     "data": {
      "text/html": [
       "<div>\n",
       "<table border=\"1\" class=\"dataframe\">\n",
       "  <thead>\n",
       "    <tr style=\"text-align: right;\">\n",
       "      <th></th>\n",
       "      <th>fingerprint</th>\n",
       "      <th>nickname</th>\n",
       "      <th>last_seen</th>\n",
       "      <th>last_restarted</th>\n",
       "      <th>last_changed_addr_port</th>\n",
       "      <th>first_seen</th>\n",
       "      <th>hibernating</th>\n",
       "      <th>age</th>\n",
       "      <th>uptime</th>\n",
       "      <th>address_port_uptime</th>\n",
       "      <th>...</th>\n",
       "      <th>exit_prob</th>\n",
       "      <th>badexit</th>\n",
       "      <th>exit</th>\n",
       "      <th>fast</th>\n",
       "      <th>guard</th>\n",
       "      <th>hsdir</th>\n",
       "      <th>stable</th>\n",
       "      <th>running</th>\n",
       "      <th>valid</th>\n",
       "      <th>v2dir</th>\n",
       "    </tr>\n",
       "  </thead>\n",
       "  <tbody>\n",
       "    <tr>\n",
       "      <th>0</th>\n",
       "      <td>2B35CC60F043B3DB6DFFE73F464A67B82B0B0B4E</td>\n",
       "      <td>torjittertrapnet</td>\n",
       "      <td>2016-12-18 14:00:00</td>\n",
       "      <td>2016-12-08 08:30:31</td>\n",
       "      <td>2016-08-10 03:00:00</td>\n",
       "      <td>2016-08-10 03:00:00</td>\n",
       "      <td>0.0</td>\n",
       "      <td>11271600.0</td>\n",
       "      <td>883769.0</td>\n",
       "      <td>11271600.0</td>\n",
       "      <td>...</td>\n",
       "      <td>0</td>\n",
       "      <td>0.0</td>\n",
       "      <td>0.0</td>\n",
       "      <td>0.0</td>\n",
       "      <td>0.0</td>\n",
       "      <td>0.0</td>\n",
       "      <td>1.0</td>\n",
       "      <td>1.0</td>\n",
       "      <td>1.0</td>\n",
       "      <td>1.0</td>\n",
       "    </tr>\n",
       "    <tr>\n",
       "      <th>1</th>\n",
       "      <td>055A3CAA2582B87448301367ECD5905D138EF049</td>\n",
       "      <td>verax1</td>\n",
       "      <td>2016-12-18 14:00:00</td>\n",
       "      <td>2016-08-28 01:40:14</td>\n",
       "      <td>2016-08-28 02:00:00</td>\n",
       "      <td>2014-11-29 22:00:00</td>\n",
       "      <td>0.0</td>\n",
       "      <td>64771200.0</td>\n",
       "      <td>9721186.0</td>\n",
       "      <td>9720000.0</td>\n",
       "      <td>...</td>\n",
       "      <td>0</td>\n",
       "      <td>0.0</td>\n",
       "      <td>0.0</td>\n",
       "      <td>1.0</td>\n",
       "      <td>0.0</td>\n",
       "      <td>1.0</td>\n",
       "      <td>1.0</td>\n",
       "      <td>1.0</td>\n",
       "      <td>1.0</td>\n",
       "      <td>1.0</td>\n",
       "    </tr>\n",
       "    <tr>\n",
       "      <th>2</th>\n",
       "      <td>D5F2C65F4131A1468D5B67A8838A9B7ED8C049E2</td>\n",
       "      <td>che</td>\n",
       "      <td>2016-12-18 14:00:00</td>\n",
       "      <td>2016-12-08 18:02:47</td>\n",
       "      <td>2016-06-20 14:00:00</td>\n",
       "      <td>2007-10-27 12:00:00</td>\n",
       "      <td>0.0</td>\n",
       "      <td>288583200.0</td>\n",
       "      <td>849433.0</td>\n",
       "      <td>15638400.0</td>\n",
       "      <td>...</td>\n",
       "      <td>6.33964e-06</td>\n",
       "      <td>0.0</td>\n",
       "      <td>1.0</td>\n",
       "      <td>1.0</td>\n",
       "      <td>0.0</td>\n",
       "      <td>1.0</td>\n",
       "      <td>1.0</td>\n",
       "      <td>1.0</td>\n",
       "      <td>1.0</td>\n",
       "      <td>1.0</td>\n",
       "    </tr>\n",
       "    <tr>\n",
       "      <th>3</th>\n",
       "      <td>0F69025EA0A61A96E5444A8BF39A8B1335488610</td>\n",
       "      <td>Uni25</td>\n",
       "      <td>2016-12-18 14:00:00</td>\n",
       "      <td>2016-11-28 23:11:16</td>\n",
       "      <td>2016-10-25 16:00:00</td>\n",
       "      <td>2015-04-24 21:00:00</td>\n",
       "      <td>0.0</td>\n",
       "      <td>52160400.0</td>\n",
       "      <td>1694924.0</td>\n",
       "      <td>4658400.0</td>\n",
       "      <td>...</td>\n",
       "      <td>0</td>\n",
       "      <td>0.0</td>\n",
       "      <td>0.0</td>\n",
       "      <td>1.0</td>\n",
       "      <td>0.0</td>\n",
       "      <td>1.0</td>\n",
       "      <td>1.0</td>\n",
       "      <td>1.0</td>\n",
       "      <td>1.0</td>\n",
       "      <td>1.0</td>\n",
       "    </tr>\n",
       "    <tr>\n",
       "      <th>4</th>\n",
       "      <td>2A587ED761FB8CF8AA7CB77164455479C002141B</td>\n",
       "      <td>Unnamed</td>\n",
       "      <td>2016-12-18 14:00:00</td>\n",
       "      <td>2016-12-12 23:06:28</td>\n",
       "      <td>2016-12-12 23:00:00</td>\n",
       "      <td>2016-12-12 23:00:00</td>\n",
       "      <td>0.0</td>\n",
       "      <td>486000.0</td>\n",
       "      <td>485612.0</td>\n",
       "      <td>486000.0</td>\n",
       "      <td>...</td>\n",
       "      <td>0</td>\n",
       "      <td>0.0</td>\n",
       "      <td>0.0</td>\n",
       "      <td>1.0</td>\n",
       "      <td>0.0</td>\n",
       "      <td>1.0</td>\n",
       "      <td>1.0</td>\n",
       "      <td>1.0</td>\n",
       "      <td>1.0</td>\n",
       "      <td>1.0</td>\n",
       "    </tr>\n",
       "  </tbody>\n",
       "</table>\n",
       "<p>5 rows × 32 columns</p>\n",
       "</div>"
      ],
      "text/plain": [
       "                                fingerprint          nickname  \\\n",
       "0  2B35CC60F043B3DB6DFFE73F464A67B82B0B0B4E  torjittertrapnet   \n",
       "1  055A3CAA2582B87448301367ECD5905D138EF049            verax1   \n",
       "2  D5F2C65F4131A1468D5B67A8838A9B7ED8C049E2               che   \n",
       "3  0F69025EA0A61A96E5444A8BF39A8B1335488610             Uni25   \n",
       "4  2A587ED761FB8CF8AA7CB77164455479C002141B           Unnamed   \n",
       "\n",
       "             last_seen       last_restarted last_changed_addr_port  \\\n",
       "0  2016-12-18 14:00:00  2016-12-08 08:30:31    2016-08-10 03:00:00   \n",
       "1  2016-12-18 14:00:00  2016-08-28 01:40:14    2016-08-28 02:00:00   \n",
       "2  2016-12-18 14:00:00  2016-12-08 18:02:47    2016-06-20 14:00:00   \n",
       "3  2016-12-18 14:00:00  2016-11-28 23:11:16    2016-10-25 16:00:00   \n",
       "4  2016-12-18 14:00:00  2016-12-12 23:06:28    2016-12-12 23:00:00   \n",
       "\n",
       "            first_seen  hibernating          age     uptime  \\\n",
       "0  2016-08-10 03:00:00          0.0   11271600.0   883769.0   \n",
       "1  2014-11-29 22:00:00          0.0   64771200.0  9721186.0   \n",
       "2  2007-10-27 12:00:00          0.0  288583200.0   849433.0   \n",
       "3  2015-04-24 21:00:00          0.0   52160400.0  1694924.0   \n",
       "4  2016-12-12 23:00:00          0.0     486000.0   485612.0   \n",
       "\n",
       "   address_port_uptime  ...     exit_prob  badexit  exit  fast guard  hsdir  \\\n",
       "0           11271600.0  ...             0      0.0   0.0   0.0   0.0    0.0   \n",
       "1            9720000.0  ...             0      0.0   0.0   1.0   0.0    1.0   \n",
       "2           15638400.0  ...   6.33964e-06      0.0   1.0   1.0   0.0    1.0   \n",
       "3            4658400.0  ...             0      0.0   0.0   1.0   0.0    1.0   \n",
       "4             486000.0  ...             0      0.0   0.0   1.0   0.0    1.0   \n",
       "\n",
       "  stable running valid v2dir  \n",
       "0    1.0     1.0   1.0   1.0  \n",
       "1    1.0     1.0   1.0   1.0  \n",
       "2    1.0     1.0   1.0   1.0  \n",
       "3    1.0     1.0   1.0   1.0  \n",
       "4    1.0     1.0   1.0   1.0  \n",
       "\n",
       "[5 rows x 32 columns]"
      ]
     },
     "execution_count": 110,
     "metadata": {},
     "output_type": "execute_result"
    }
   ],
   "source": [
    "columns=['fingerprint',\n",
    "         'nickname',\n",
    "         'last_seen',\n",
    "         'last_restarted',\n",
    "         'last_changed_addr_port',\n",
    "         'first_seen',\n",
    "         'hibernating',\n",
    "         'age', # computed from last_seen and first_seen\n",
    "         'uptime', # computed from last_restarted and date pulled\n",
    "         'address_port_uptime', # computed from last_changed_addr_port and date pulled\n",
    "         'bandwidth_rate',\n",
    "         'bandwidth_burst',\n",
    "         'observed_bandwidth',\n",
    "         'advertised_bandwidth',\n",
    "         'consensus_weight',\n",
    "         'ports_accepted',\n",
    "         'country',\n",
    "         'as_number',\n",
    "         'effective_family',\n",
    "         'indirect_family',\n",
    "         'guard_prob',\n",
    "         'middle_prob',\n",
    "         'exit_prob',\n",
    "         'badexit',\n",
    "         'exit',\n",
    "         'fast',\n",
    "         'guard',\n",
    "         'hsdir',\n",
    "         'stable',\n",
    "         'running',\n",
    "         'valid',\n",
    "         'v2dir']\n",
    "\n",
    "relayDF = pd.DataFrame(columns=columns)\n",
    "\n",
    "date_pulled = datetime.datetime.strptime(response['relays_published'],\"%Y-%m-%d %H:%M:%S\")\n",
    "\n",
    "for relay in response['relays']:\n",
    "    row = [None]*len(columns)\n",
    "    \n",
    "    # IDENTIFIERS\n",
    "    row[0] = relay['fingerprint'] if 'fingerprint' in relay else None\n",
    "    row[1] = relay['nickname'] if 'nickname' in relay else None\n",
    "    \n",
    "    # REPORTED TIMING PROPERTIES\n",
    "    row[2] = relay['last_seen'] if 'last_seen' in relay else None\n",
    "    row[3] = relay['last_restarted'] if 'last_restarted' in relay else None\n",
    "    row[4] = relay['last_changed_address_or_port'] if 'last_changed_address_or_port' in relay else None\n",
    "    row[5] = relay['first_seen'] if 'first_seen' in relay else None\n",
    "    row[6] = 1 if 'hibernating' in relay else 0\n",
    "    \n",
    "    # COMPUTED TIMING PROPERTIES\n",
    "    row[7] = compute_age(relay)\n",
    "    row[8] = compute_uptime(relay, date_pulled)\n",
    "    row[9] = compute_addr_port_uptime(relay, date_pulled)\n",
    "    \n",
    "    # BANDWIDTH PROPERTIES\n",
    "    row[10] = relay['bandwidth_rate'] if 'bandwidth_rate' in relay else None\n",
    "    row[11] = relay['bandwidth_burst'] if 'bandwidth_burst' in relay else None\n",
    "    row[12] = relay['observed_bandwidth'] if 'observed_bandwidth' in relay else None\n",
    "    row[13] = relay['advertised_bandwidth'] if 'advertised_bandwidth' in relay else None\n",
    "    \n",
    "    # CONSENSUS AND PORTS\n",
    "    row[14] = relay['consensus_weight_fraction'] if 'consensus_weight_fraction' in relay else None\n",
    "    row[15] = compute_open_ports(relay)\n",
    "    \n",
    "    # FAMILY PROPERTIES\n",
    "    row[16] = relay['country'] if 'country' in relay else None\n",
    "    row[17] = relay['as_number'] if 'as_number' in relay else None\n",
    "    row[18] = len(relay['effective_family']) if 'effective_family' in relay else None\n",
    "    row[19] = len(relay['indirect_family']) if 'indirect_family' in relay else None\n",
    "    \n",
    "    # POSITIONAL PROBABILITIES\n",
    "    row[20] = relay['guard_probability'] if 'guard_probability' in relay else None\n",
    "    row[21] = relay['middle_probability'] if 'middle_probability' in relay else None\n",
    "    row[22] = relay['exit_probability'] if 'exit_probability' in relay else None\n",
    "    \n",
    "    # FLAGS\n",
    "    if 'flags' in relay:\n",
    "        row[23] = int('BadExit' in relay['flags'])\n",
    "        row[24] = int('Exit' in relay['flags'])\n",
    "        row[25] = int('Fast' in relay['flags'])\n",
    "        row[26] = int('Guard' in relay['flags'])\n",
    "        row[27] = int('HSDir' in relay['flags'])\n",
    "        row[28] = int('Stable' in relay['flags'])\n",
    "        row[29] = int('Running' in relay['flags'])\n",
    "        row[30] = int('Valid' in relay['flags'])\n",
    "        row[31] = int('V2Dir' in relay['flags'])\n",
    "    \n",
    "    relayDF = relayDF.append(pd.DataFrame([row],columns=columns))\n",
    "relayDF.reset_index(drop=True,inplace=True)\n",
    "relayDF.head()"
   ]
  },
  {
   "cell_type": "code",
   "execution_count": 111,
   "metadata": {
    "collapsed": false
   },
   "outputs": [
    {
     "data": {
      "text/plain": [
       "8382"
      ]
     },
     "execution_count": 111,
     "metadata": {},
     "output_type": "execute_result"
    }
   ],
   "source": [
    "len(relayDF)"
   ]
  },
  {
   "cell_type": "markdown",
   "metadata": {},
   "source": [
    "### Run this to save the relay DataFrame as a .csv\n",
    "\n",
    "Make sure you change the name of the file or it will overwrite what's already there!"
   ]
  },
  {
   "cell_type": "code",
   "execution_count": 112,
   "metadata": {
    "collapsed": false
   },
   "outputs": [],
   "source": [
    "relayDF.to_csv('sample-12-18-16-v2dir.csv')"
   ]
  },
  {
   "cell_type": "markdown",
   "metadata": {},
   "source": [
    "### Run this to load a relay dataframe from a .csv file\n",
    "\n",
    "If you already have a parsed .csv representation of the Onionoo response, you can load it with this block."
   ]
  },
  {
   "cell_type": "code",
   "execution_count": 21,
   "metadata": {
    "collapsed": false
   },
   "outputs": [
    {
     "data": {
      "text/html": [
       "<div>\n",
       "<table border=\"1\" class=\"dataframe\">\n",
       "  <thead>\n",
       "    <tr style=\"text-align: right;\">\n",
       "      <th></th>\n",
       "      <th>fingerprint</th>\n",
       "      <th>nickname</th>\n",
       "      <th>last_seen</th>\n",
       "      <th>last_restarted</th>\n",
       "      <th>last_changed_addr_port</th>\n",
       "      <th>first_seen</th>\n",
       "      <th>hibernating</th>\n",
       "      <th>age</th>\n",
       "      <th>uptime</th>\n",
       "      <th>address_port_uptime</th>\n",
       "      <th>...</th>\n",
       "      <th>middle_prob</th>\n",
       "      <th>exit_prob</th>\n",
       "      <th>badexit</th>\n",
       "      <th>exit</th>\n",
       "      <th>fast</th>\n",
       "      <th>guard</th>\n",
       "      <th>hsdir</th>\n",
       "      <th>stable</th>\n",
       "      <th>running</th>\n",
       "      <th>valid</th>\n",
       "    </tr>\n",
       "  </thead>\n",
       "  <tbody>\n",
       "    <tr>\n",
       "      <th>0</th>\n",
       "      <td>2B35CC60F043B3DB6DFFE73F464A67B82B0B0B4E</td>\n",
       "      <td>torjittertrapnet</td>\n",
       "      <td>2016-12-18 14:00:00</td>\n",
       "      <td>2016-12-08 08:30:31</td>\n",
       "      <td>2016-08-10 03:00:00</td>\n",
       "      <td>2016-08-10 03:00:00</td>\n",
       "      <td>0.0</td>\n",
       "      <td>11271600.0</td>\n",
       "      <td>883769.0</td>\n",
       "      <td>11271600.0</td>\n",
       "      <td>...</td>\n",
       "      <td>0.000001</td>\n",
       "      <td>0.000000</td>\n",
       "      <td>0.0</td>\n",
       "      <td>0.0</td>\n",
       "      <td>0.0</td>\n",
       "      <td>0.0</td>\n",
       "      <td>0.0</td>\n",
       "      <td>1.0</td>\n",
       "      <td>1.0</td>\n",
       "      <td>1.0</td>\n",
       "    </tr>\n",
       "    <tr>\n",
       "      <th>1</th>\n",
       "      <td>055A3CAA2582B87448301367ECD5905D138EF049</td>\n",
       "      <td>verax1</td>\n",
       "      <td>2016-12-18 14:00:00</td>\n",
       "      <td>2016-08-28 01:40:14</td>\n",
       "      <td>2016-08-28 02:00:00</td>\n",
       "      <td>2014-11-29 22:00:00</td>\n",
       "      <td>0.0</td>\n",
       "      <td>64771200.0</td>\n",
       "      <td>9721186.0</td>\n",
       "      <td>9720000.0</td>\n",
       "      <td>...</td>\n",
       "      <td>0.000028</td>\n",
       "      <td>0.000000</td>\n",
       "      <td>0.0</td>\n",
       "      <td>0.0</td>\n",
       "      <td>1.0</td>\n",
       "      <td>0.0</td>\n",
       "      <td>1.0</td>\n",
       "      <td>1.0</td>\n",
       "      <td>1.0</td>\n",
       "      <td>1.0</td>\n",
       "    </tr>\n",
       "    <tr>\n",
       "      <th>2</th>\n",
       "      <td>D5F2C65F4131A1468D5B67A8838A9B7ED8C049E2</td>\n",
       "      <td>che</td>\n",
       "      <td>2016-12-18 14:00:00</td>\n",
       "      <td>2016-12-08 18:02:47</td>\n",
       "      <td>2016-06-20 14:00:00</td>\n",
       "      <td>2007-10-27 12:00:00</td>\n",
       "      <td>0.0</td>\n",
       "      <td>288583200.0</td>\n",
       "      <td>849433.0</td>\n",
       "      <td>15638400.0</td>\n",
       "      <td>...</td>\n",
       "      <td>0.000000</td>\n",
       "      <td>0.000006</td>\n",
       "      <td>0.0</td>\n",
       "      <td>1.0</td>\n",
       "      <td>1.0</td>\n",
       "      <td>0.0</td>\n",
       "      <td>1.0</td>\n",
       "      <td>1.0</td>\n",
       "      <td>1.0</td>\n",
       "      <td>1.0</td>\n",
       "    </tr>\n",
       "    <tr>\n",
       "      <th>3</th>\n",
       "      <td>0F69025EA0A61A96E5444A8BF39A8B1335488610</td>\n",
       "      <td>Uni25</td>\n",
       "      <td>2016-12-18 14:00:00</td>\n",
       "      <td>2016-11-28 23:11:16</td>\n",
       "      <td>2016-10-25 16:00:00</td>\n",
       "      <td>2015-04-24 21:00:00</td>\n",
       "      <td>0.0</td>\n",
       "      <td>52160400.0</td>\n",
       "      <td>1694924.0</td>\n",
       "      <td>4658400.0</td>\n",
       "      <td>...</td>\n",
       "      <td>0.000010</td>\n",
       "      <td>0.000000</td>\n",
       "      <td>0.0</td>\n",
       "      <td>0.0</td>\n",
       "      <td>1.0</td>\n",
       "      <td>0.0</td>\n",
       "      <td>1.0</td>\n",
       "      <td>1.0</td>\n",
       "      <td>1.0</td>\n",
       "      <td>1.0</td>\n",
       "    </tr>\n",
       "    <tr>\n",
       "      <th>4</th>\n",
       "      <td>2A587ED761FB8CF8AA7CB77164455479C002141B</td>\n",
       "      <td>Unnamed</td>\n",
       "      <td>2016-12-18 14:00:00</td>\n",
       "      <td>2016-12-12 23:06:28</td>\n",
       "      <td>2016-12-12 23:00:00</td>\n",
       "      <td>2016-12-12 23:00:00</td>\n",
       "      <td>0.0</td>\n",
       "      <td>486000.0</td>\n",
       "      <td>485612.0</td>\n",
       "      <td>486000.0</td>\n",
       "      <td>...</td>\n",
       "      <td>0.000015</td>\n",
       "      <td>0.000000</td>\n",
       "      <td>0.0</td>\n",
       "      <td>0.0</td>\n",
       "      <td>1.0</td>\n",
       "      <td>0.0</td>\n",
       "      <td>1.0</td>\n",
       "      <td>1.0</td>\n",
       "      <td>1.0</td>\n",
       "      <td>1.0</td>\n",
       "    </tr>\n",
       "  </tbody>\n",
       "</table>\n",
       "<p>5 rows × 31 columns</p>\n",
       "</div>"
      ],
      "text/plain": [
       "                                fingerprint          nickname  \\\n",
       "0  2B35CC60F043B3DB6DFFE73F464A67B82B0B0B4E  torjittertrapnet   \n",
       "1  055A3CAA2582B87448301367ECD5905D138EF049            verax1   \n",
       "2  D5F2C65F4131A1468D5B67A8838A9B7ED8C049E2               che   \n",
       "3  0F69025EA0A61A96E5444A8BF39A8B1335488610             Uni25   \n",
       "4  2A587ED761FB8CF8AA7CB77164455479C002141B           Unnamed   \n",
       "\n",
       "             last_seen       last_restarted last_changed_addr_port  \\\n",
       "0  2016-12-18 14:00:00  2016-12-08 08:30:31    2016-08-10 03:00:00   \n",
       "1  2016-12-18 14:00:00  2016-08-28 01:40:14    2016-08-28 02:00:00   \n",
       "2  2016-12-18 14:00:00  2016-12-08 18:02:47    2016-06-20 14:00:00   \n",
       "3  2016-12-18 14:00:00  2016-11-28 23:11:16    2016-10-25 16:00:00   \n",
       "4  2016-12-18 14:00:00  2016-12-12 23:06:28    2016-12-12 23:00:00   \n",
       "\n",
       "            first_seen  hibernating          age     uptime  \\\n",
       "0  2016-08-10 03:00:00          0.0   11271600.0   883769.0   \n",
       "1  2014-11-29 22:00:00          0.0   64771200.0  9721186.0   \n",
       "2  2007-10-27 12:00:00          0.0  288583200.0   849433.0   \n",
       "3  2015-04-24 21:00:00          0.0   52160400.0  1694924.0   \n",
       "4  2016-12-12 23:00:00          0.0     486000.0   485612.0   \n",
       "\n",
       "   address_port_uptime  ...    middle_prob  exit_prob  badexit  exit  fast  \\\n",
       "0           11271600.0  ...       0.000001   0.000000      0.0   0.0   0.0   \n",
       "1            9720000.0  ...       0.000028   0.000000      0.0   0.0   1.0   \n",
       "2           15638400.0  ...       0.000000   0.000006      0.0   1.0   1.0   \n",
       "3            4658400.0  ...       0.000010   0.000000      0.0   0.0   1.0   \n",
       "4             486000.0  ...       0.000015   0.000000      0.0   0.0   1.0   \n",
       "\n",
       "   guard hsdir stable  running  valid  \n",
       "0    0.0   0.0    1.0      1.0    1.0  \n",
       "1    0.0   1.0    1.0      1.0    1.0  \n",
       "2    0.0   1.0    1.0      1.0    1.0  \n",
       "3    0.0   1.0    1.0      1.0    1.0  \n",
       "4    0.0   1.0    1.0      1.0    1.0  \n",
       "\n",
       "[5 rows x 31 columns]"
      ]
     },
     "execution_count": 21,
     "metadata": {},
     "output_type": "execute_result"
    }
   ],
   "source": [
    "relayDF = pd.DataFrame.from_csv('sample-12-18-16.csv')\n",
    "relayDF.head()"
   ]
  },
  {
   "cell_type": "markdown",
   "metadata": {},
   "source": [
    "# Relay Feature Properties\n",
    "\n",
    "Here we look at the distributions of the relay properties and try different spaces to look for normal distributions."
   ]
  },
  {
   "cell_type": "markdown",
   "metadata": {},
   "source": [
    "## Advertised Bandwidth Distribution"
   ]
  },
  {
   "cell_type": "code",
   "execution_count": 409,
   "metadata": {
    "collapsed": false
   },
   "outputs": [
    {
     "data": {
      "image/png": "[encoded data removed]",
      "text/plain": [
       "<matplotlib.figure.Figure at 0x12e5c4390>"
      ]
     },
     "metadata": {},
     "output_type": "display_data"
    }
   ],
   "source": [
    "import scipy.stats as stats\n",
    "fig = plt.figure()\n",
    "ax1 = fig.add_subplot(111)\n",
    "a = relayDF.advertised_bandwidth[relayDF.advertised_bandwidth>0].apply(lambda x: math.log(x))\n",
    "e = relayDF.advertised_bandwidth[(relayDF.advertised_bandwidth>0)&(relayDF.exit==1)].apply(lambda x: math.log(x))\n",
    "g = relayDF.advertised_bandwidth[(relayDF.advertised_bandwidth>0)&(relayDF.guard==1)].apply(lambda x: math.log(x))\n",
    "ax1.hist((a,e,g),normed=True,label=['all','exit','guard'])\n",
    "fit = stats.norm.pdf(a.sort_values(), a.mean(), a.std())\n",
    "ax1.plot(a.sort_values(),fit,color='b')\n",
    "fit = stats.norm.pdf(e.sort_values(), e.mean(), e.std())\n",
    "ax1.plot(e.sort_values(),fit,color='g')\n",
    "fit = stats.norm.pdf(g.sort_values(), g.mean(), g.std())\n",
    "ax1.plot(g.sort_values(),fit,color='r')\n",
    "plt.title(\"Advertised Bandwidth Distribution\")\n",
    "plt.ylabel(\"Frequency\")\n",
    "plt.xlabel(\"Log-space Bandwidth\")\n",
    "plt.legend(loc='upper left')\n",
    "fig.savefig('./images/12-18-log_bandwidth_distribution',dpi=1000)\n",
    "plt.show()"
   ]
  },
  {
   "cell_type": "code",
   "execution_count": 410,
   "metadata": {
    "collapsed": false
   },
   "outputs": [
    {
     "data": {
      "image/png": "[encoded data removed]",
      "text/plain": [
       "<matplotlib.figure.Figure at 0x1222d54a8>"
      ]
     },
     "metadata": {},
     "output_type": "display_data"
    }
   ],
   "source": [
    "fig = plt.figure()\n",
    "ax1 = fig.add_subplot(221)\n",
    "x = relayDF[relayDF.advertised_bandwidth>0].advertised_bandwidth.apply(lambda x: math.log(x))\n",
    "res = stats.probplot(x, plot=plt)\n",
    "ax1.set_title(\"Advertised Bandwidth\")\n",
    "plt.show()"
   ]
  },
  {
   "cell_type": "code",
   "execution_count": 268,
   "metadata": {
    "collapsed": false
   },
   "outputs": [
    {
     "data": {
      "text/plain": [
       "(13.821603721539171, 14.670205264031926, 15.68674609098163)"
      ]
     },
     "execution_count": 268,
     "metadata": {},
     "output_type": "execute_result"
    }
   ],
   "source": [
    "a.mean(),e.mean(),g.mean()"
   ]
  },
  {
   "cell_type": "code",
   "execution_count": 269,
   "metadata": {
    "collapsed": false
   },
   "outputs": [
    {
     "data": {
      "text/plain": [
       "3.1875756839413856"
      ]
     },
     "execution_count": 269,
     "metadata": {},
     "output_type": "execute_result"
    }
   ],
   "source": [
    "math.pow(a.std(),2)"
   ]
  },
  {
   "cell_type": "code",
   "execution_count": 440,
   "metadata": {
    "collapsed": false
   },
   "outputs": [
    {
     "data": {
      "text/plain": [
       "7.568681581995953"
      ]
     },
     "execution_count": 440,
     "metadata": {},
     "output_type": "execute_result"
    }
   ],
   "source": [
    "relayDF[(relayDF.guard==1)].advertised_bandwidth.std()/1000000"
   ]
  },
  {
   "cell_type": "code",
   "execution_count": 329,
   "metadata": {
    "collapsed": false
   },
   "outputs": [
    {
     "data": {
      "image/png": "[encoded data removed]",
      "text/plain": [
       "<matplotlib.figure.Figure at 0x1412333c8>"
      ]
     },
     "metadata": {},
     "output_type": "display_data"
    }
   ],
   "source": [
    "fig = plt.figure()\n",
    "ax1 = fig.add_subplot(311)\n",
    "x = relayDF[relayDF.advertised_bandwidth>0].advertised_bandwidth.apply(lambda x: math.log(x))\n",
    "res = stats.probplot(x, plot=plt)\n",
    "ax2 = fig.add_subplot(312)\n",
    "x = relayDF[(relayDF.advertised_bandwidth>0)&(relayDF.exit==1)].advertised_bandwidth.apply(lambda x: math.log(x))\n",
    "res = stats.probplot(x, plot=plt)\n",
    "ax3 = fig.add_subplot(313)\n",
    "x = relayDF[(relayDF.advertised_bandwidth>0)&(relayDF.guard==1)].advertised_bandwidth.apply(lambda x: math.log(x))\n",
    "res = stats.probplot(x, plot=plt)\n",
    "plt.show()"
   ]
  },
  {
   "cell_type": "markdown",
   "metadata": {},
   "source": [
    "## Consensus Weight Distribution"
   ]
  },
  {
   "cell_type": "code",
   "execution_count": 425,
   "metadata": {
    "collapsed": false
   },
   "outputs": [
    {
     "data": {
      "image/png": "[encoded data removed]",
      "text/plain": [
       "<matplotlib.figure.Figure at 0x11eb8e128>"
      ]
     },
     "metadata": {},
     "output_type": "display_data"
    }
   ],
   "source": [
    "fig = plt.figure()\n",
    "ax1 = fig.add_subplot(111)\n",
    "a = relayDF.consensus_weight[relayDF.consensus_weight>0].apply(lambda x: math.log(x))\n",
    "e = relayDF.consensus_weight[(relayDF.consensus_weight>0)&(relayDF.exit==1)].apply(lambda x: math.log(x))\n",
    "g = relayDF.consensus_weight[(relayDF.consensus_weight>0)&(relayDF.guard==1)].apply(lambda x: math.log(x))\n",
    "ax1.hist((a,e,g),normed=True,label=['all','exit','guard'])\n",
    "fit = stats.norm.pdf(a.sort_values(), a.mean(), a.std())\n",
    "ax1.plot(a.sort_values(),fit,color='b')\n",
    "fit = stats.norm.pdf(e.sort_values(), e.mean(), e.std())\n",
    "ax1.plot(e.sort_values(),fit,color='g')\n",
    "fit = stats.norm.pdf(g.sort_values(), g.mean(), g.std())\n",
    "ax1.plot(g.sort_values(),fit,color='r')\n",
    "plt.title(\"Consensus Weight Distribution\")\n",
    "plt.ylabel(\"Frequency\")\n",
    "plt.xlabel(\"Log-space Fraction of Consensus Weight\")\n",
    "plt.legend(loc='upper left')\n",
    "fig.savefig('./images/12-18-log_consensus_distribution',dpi=1000)\n",
    "plt.show()"
   ]
  },
  {
   "cell_type": "code",
   "execution_count": 296,
   "metadata": {
    "collapsed": false
   },
   "outputs": [
    {
     "data": {
      "text/plain": [
       "(0.0001388696016257246, 0.0002440580011284369, 0.00034393339421295524)"
      ]
     },
     "execution_count": 296,
     "metadata": {},
     "output_type": "execute_result"
    }
   ],
   "source": [
    "relayDF.consensus_weight.mean(),relayDF[relayDF.exit==1].consensus_weight.mean(),relayDF[relayDF.guard==1].consensus_weight.mean()"
   ]
  },
  {
   "cell_type": "code",
   "execution_count": 328,
   "metadata": {
    "collapsed": false
   },
   "outputs": [
    {
     "data": {
      "image/png": "[encoded data removed]",
      "text/plain": [
       "<matplotlib.figure.Figure at 0x119d6a278>"
      ]
     },
     "metadata": {},
     "output_type": "display_data"
    }
   ],
   "source": [
    "fig = plt.figure()\n",
    "ax1 = fig.add_subplot(311)\n",
    "x = relayDF[relayDF.consensus_weight>0].consensus_weight.apply(lambda x: math.log(x))\n",
    "res = stats.probplot(x, plot=plt)\n",
    "ax2 = fig.add_subplot(312)\n",
    "x = relayDF[(relayDF.consensus_weight>0)&(relayDF.exit==1)].consensus_weight.apply(lambda x: math.log(x))\n",
    "res = stats.probplot(x, plot=plt)\n",
    "ax3 = fig.add_subplot(313)\n",
    "x = relayDF[(relayDF.consensus_weight>0)&(relayDF.guard==1)].consensus_weight.apply(lambda x: math.log(x))\n",
    "res = stats.probplot(x, plot=plt)\n",
    "plt.show()"
   ]
  },
  {
   "cell_type": "code",
   "execution_count": 431,
   "metadata": {
    "collapsed": false
   },
   "outputs": [
    {
     "data": {
      "text/plain": [
       "0.013900472634234681"
      ]
     },
     "execution_count": 431,
     "metadata": {},
     "output_type": "execute_result"
    }
   ],
   "source": [
    "relayDF[(relayDF.consensus_weight>0)].consensus_weight.mean()*100"
   ]
  },
  {
   "cell_type": "markdown",
   "metadata": {},
   "source": [
    "## Bandwidth Discrepencies\n",
    "\n",
    "There are several bandwdith values a relay can report. They are typically not the same. The smallest is used to determine consensus weight and therefore the most important with regards to a relay's likelihood of being chosen for a path."
   ]
  },
  {
   "cell_type": "code",
   "execution_count": 137,
   "metadata": {
    "collapsed": false
   },
   "outputs": [
    {
     "data": {
      "image/png": "[encoded data removed]",
      "text/plain": [
       "<matplotlib.figure.Figure at 0x12272bd68>"
      ]
     },
     "metadata": {},
     "output_type": "display_data"
    }
   ],
   "source": [
    "adv_mean = [relayDF.advertised_bandwidth.mean(),\n",
    "            relayDF[relayDF.exit==1].advertised_bandwidth.mean(),\n",
    "            relayDF[relayDF.guard==1].advertised_bandwidth.mean()]\n",
    "\n",
    "obs_mean = [relayDF.observed_bandwidth.mean(),\n",
    "            relayDF[relayDF.exit==1].observed_bandwidth.mean(),\n",
    "            relayDF[relayDF.guard==1].observed_bandwidth.mean()]\n",
    "\n",
    "burst_mean = [relayDF.bandwidth_burst.mean(),\n",
    "              relayDF[relayDF.exit==1].bandwidth_burst.mean(),\n",
    "              relayDF[relayDF.guard==1].bandwidth_burst.mean()]\n",
    "\n",
    "rate_mean = [relayDF.bandwidth_rate.mean(),\n",
    "             relayDF[relayDF.exit==1].bandwidth_rate.mean(),\n",
    "             relayDF[relayDF.guard==1].bandwidth_rate.mean()]\n",
    "\n",
    "x = [0,1,2]\n",
    "\n",
    "plt.scatter(x, adv_mean, s=80, marker='o',label='Advertised',color='0.75')\n",
    "plt.scatter(x, obs_mean, marker='+', label='Observed',color='k')\n",
    "plt.scatter(x, burst_mean, marker='_', label='Burst',color='k')\n",
    "plt.scatter(x, rate_mean, marker='x', label='Rate',color='k')\n",
    "plt.xlabel('Type of Relay')\n",
    "plt.ylabel('Reported Bandwidth (B/s)')\n",
    "plt.title('Mean Reported Bandwidth Values')\n",
    "plt.xlim(-0.25,2.25)\n",
    "plt.ylim(ymin=0)\n",
    "plt.legend(loc='upper left')\n",
    "plt.xticks(x, ['All', 'Exit','Guard'])\n",
    "plt.savefig('./images/12-18-reported_bandwidths',dpi=1000)\n",
    "plt.show()"
   ]
  },
  {
   "cell_type": "markdown",
   "metadata": {},
   "source": [
    "## Family Size"
   ]
  },
  {
   "cell_type": "code",
   "execution_count": 102,
   "metadata": {
    "collapsed": false
   },
   "outputs": [
    {
     "data": {
      "text/plain": [
       "1379"
      ]
     },
     "execution_count": 102,
     "metadata": {},
     "output_type": "execute_result"
    }
   ],
   "source": [
    "# Number of relays reporting a family size>0:\n",
    "len(relayDF[relayDF.effective_family>0])"
   ]
  },
  {
   "cell_type": "code",
   "execution_count": 104,
   "metadata": {
    "collapsed": false
   },
   "outputs": [
    {
     "data": {
      "text/plain": [
       "99"
      ]
     },
     "execution_count": 104,
     "metadata": {},
     "output_type": "execute_result"
    }
   ],
   "source": [
    "# Number of relays reporting an indirect family size>0:\n",
    "len(relayDF[(relayDF.indirect_family>0)&(relayDF.effective_family>0)])"
   ]
  },
  {
   "cell_type": "code",
   "execution_count": 131,
   "metadata": {
    "collapsed": false
   },
   "outputs": [
    {
     "data": {
      "text/plain": [
       "7.5165086222440189"
      ]
     },
     "execution_count": 131,
     "metadata": {},
     "output_type": "execute_result"
    }
   ],
   "source": [
    "relayDF[relayDF.effective_family>0].effective_family.std()"
   ]
  },
  {
   "cell_type": "code",
   "execution_count": 132,
   "metadata": {
    "collapsed": false
   },
   "outputs": [
    {
     "data": {
      "text/plain": [
       "6.3428629928602946"
      ]
     },
     "execution_count": 132,
     "metadata": {},
     "output_type": "execute_result"
    }
   ],
   "source": [
    "relayDF[(relayDF.indirect_family>0)&(relayDF.effective_family>0)].indirect_family.std()"
   ]
  },
  {
   "cell_type": "code",
   "execution_count": 252,
   "metadata": {
    "collapsed": false
   },
   "outputs": [
    {
     "data": {
      "image/png": "[encoded data removed]",
      "text/plain": [
       "<matplotlib.figure.Figure at 0x103d64668>"
      ]
     },
     "metadata": {},
     "output_type": "display_data"
    }
   ],
   "source": [
    "fig = plt.figure()\n",
    "ax1 = fig.add_subplot(111)\n",
    "a = relayDF.effective_family[relayDF.effective_family>0]\n",
    "e = relayDF.effective_family[(relayDF.effective_family>0)&(relayDF.exit==1)]\n",
    "g = relayDF.effective_family[(relayDF.effective_family>0)&(relayDF.guard==1)]\n",
    "ax1.hist((a,e,g),normed=True,label=['all','exit','guard'])\n",
    "plt.axvline(math.log(relayDF[relayDF.effective_family>0].effective_family.mean()), color='k', linestyle='dashed', linewidth=2)\n",
    "plt.title(\"Family Size Distribution\")\n",
    "plt.legend(loc='upper right')\n",
    "plt.ylabel(\"Frequency\")\n",
    "plt.xlabel(\"Family Size\")\n",
    "fig.savefig('./images/12-18-family_size_distribution',dpi=1000)\n",
    "plt.show()"
   ]
  },
  {
   "cell_type": "markdown",
   "metadata": {},
   "source": [
    "## AS Number"
   ]
  },
  {
   "cell_type": "code",
   "execution_count": 173,
   "metadata": {
    "collapsed": false
   },
   "outputs": [
    {
     "name": "stdout",
     "output_type": "stream",
     "text": [
      "56\n"
     ]
    }
   ],
   "source": [
    "# How many relays didn't report an AS?\n",
    "count = 0\n",
    "for num in relayDF.as_number:\n",
    "    if num == None:\n",
    "        count += 1\n",
    "print(count)"
   ]
  },
  {
   "cell_type": "markdown",
   "metadata": {},
   "source": [
    "## Flags"
   ]
  },
  {
   "cell_type": "code",
   "execution_count": 126,
   "metadata": {
    "collapsed": false
   },
   "outputs": [
    {
     "data": {
      "text/plain": [
       "573"
      ]
     },
     "execution_count": 126,
     "metadata": {},
     "output_type": "execute_result"
    }
   ],
   "source": [
    "# Number of exit-only relays\n",
    "len(relayDF[(relayDF.exit==1)&(relayDF.guard==0)])"
   ]
  },
  {
   "cell_type": "code",
   "execution_count": 127,
   "metadata": {
    "collapsed": false
   },
   "outputs": [
    {
     "data": {
      "text/plain": [
       "2123"
      ]
     },
     "execution_count": 127,
     "metadata": {},
     "output_type": "execute_result"
    }
   ],
   "source": [
    "# Number of guard-only relays\n",
    "len(relayDF[(relayDF.guard==1)&(relayDF.exit==0)])"
   ]
  },
  {
   "cell_type": "code",
   "execution_count": 128,
   "metadata": {
    "collapsed": false
   },
   "outputs": [
    {
     "data": {
      "text/plain": [
       "458"
      ]
     },
     "execution_count": 128,
     "metadata": {},
     "output_type": "execute_result"
    }
   ],
   "source": [
    "# Number of exit-guard relays\n",
    "len(relayDF[(relayDF.guard==1)&(relayDF.exit==1)])"
   ]
  },
  {
   "cell_type": "code",
   "execution_count": 129,
   "metadata": {
    "collapsed": false
   },
   "outputs": [
    {
     "data": {
      "text/plain": [
       "5228"
      ]
     },
     "execution_count": 129,
     "metadata": {},
     "output_type": "execute_result"
    }
   ],
   "source": [
    "# Number of non-exit, non-guard relays\n",
    "len(relayDF[(relayDF.guard==0)&(relayDF.exit==0)])"
   ]
  },
  {
   "cell_type": "code",
   "execution_count": 125,
   "metadata": {
    "collapsed": false
   },
   "outputs": [
    {
     "data": {
      "text/plain": [
       "<matplotlib.figure.Figure at 0x11cf0feb8>"
      ]
     },
     "metadata": {},
     "output_type": "display_data"
    },
    {
     "data": {
      "image/png": "[encoded data removed]",
      "text/plain": [
       "<matplotlib.figure.Figure at 0x11cd0f3c8>"
      ]
     },
     "metadata": {},
     "output_type": "display_data"
    }
   ],
   "source": [
    "flags = ['badexit','exit','fast','guard','hsdir','stable','running','valid','v2dir']\n",
    "countsA = [relayDF[flag].sum()/len(relayDF) for flag in flags]\n",
    "countsE = [relayDF[relayDF.exit==1][flag].sum()/len(relayDF[relayDF.exit==1]) for flag in flags]\n",
    "countsG = [relayDF[relayDF.guard==1][flag].sum()/len(relayDF[relayDF.guard==1]) for flag in flags]\n",
    "\n",
    "negA = [1-x for x in countsA]\n",
    "negE = [1-x for x in countsE]\n",
    "negG = [1-x for x in countsG]\n",
    "\n",
    "N=9\n",
    "ind=np.arange(N)\n",
    "width=1\n",
    "\n",
    "fig = plt.figure()\n",
    "fig, axarr = plt.subplots(3,1,sharex=True)\n",
    "axarr[0].bar(ind,countsA,label='all',color='b')\n",
    "axarr[0].bar(ind,negA,bottom=countsA,color='c')\n",
    "axarr[1].bar(ind,countsE,label='all',color='g')\n",
    "axarr[1].bar(ind,negE,bottom=countsE,color='c')\n",
    "axarr[2].bar(ind,countsG,label='all',color='r')\n",
    "axarr[2].bar(ind,negG,bottom=countsG,color='c')\n",
    "\n",
    "plt.xlabel(\"Flag\")\n",
    "axarr[0].set_xticks(ind+0.5)\n",
    "axarr[0].set_xticklabels(flags)\n",
    "axarr[0].set_title('Flags')\n",
    "axarr[1].set_ylabel(\"Frequency\")\n",
    "# Shrink current axis by 20%\n",
    "box = axarr[0].get_position()\n",
    "axarr[0].set_position([box.x0, box.y0, box.width * 0.8, box.height])\n",
    "box = axarr[1].get_position()\n",
    "axarr[1].set_position([box.x0, box.y0, box.width * 0.8, box.height])\n",
    "box = axarr[2].get_position()\n",
    "axarr[2].set_position([box.x0, box.y0, box.width * 0.8, box.height])\n",
    "\n",
    "# Put a legend to the right of the current axis\n",
    "axarr[0].legend(('all - flag','all - no flag'),loc='center left', bbox_to_anchor=(1, 0.5))\n",
    "axarr[1].legend(('exit - flag','exit - no flag'),loc='center left', bbox_to_anchor=(1, 0.5))\n",
    "lgd = axarr[2].legend(('guard - flag','guard - no flag'),loc='center left', bbox_to_anchor=(1, 0.5))\n",
    "\n",
    "fig.savefig('./images/12-18-flags.png',dpi=1000,bbox_extra_artists=(lgd,), bbox_inches='tight')\n",
    "plt.show()"
   ]
  },
  {
   "cell_type": "markdown",
   "metadata": {},
   "source": [
    "## Ports Accepted\n",
    "\n",
    "Default Exit Policy = blackblist\n",
    "\n",
    "Reduced Exit Policy = whitelist"
   ]
  },
  {
   "cell_type": "code",
   "execution_count": 286,
   "metadata": {
    "collapsed": false
   },
   "outputs": [
    {
     "data": {
      "image/png": "[encoded data removed]",
      "text/plain": [
       "<matplotlib.figure.Figure at 0x122736320>"
      ]
     },
     "metadata": {},
     "output_type": "display_data"
    }
   ],
   "source": [
    "fig = plt.figure()\n",
    "ax1 = fig.add_subplot(111)\n",
    "# a = relayDF.ports_accepted[(relayDF.exit==0)&(relayDF.guard==0)]\n",
    "e = relayDF.ports_accepted[(relayDF.exit==1)]\n",
    "g = relayDF.ports_accepted[(relayDF.guard==1)]\n",
    "ax1.hist((e,g),normed=True,label=['exit','guard'],color=['g','r'])\n",
    "plt.title(\"Distribution of Ports Accepted\")\n",
    "plt.legend(loc='upper right')\n",
    "plt.ylabel(\"Frequency\")\n",
    "plt.xlabel(\"# Ports Accepted\")\n",
    "plt.tight_layout()\n",
    "plt.savefig('./images/12-18-ports_accepted_distribution',dpi=1000)\n",
    "plt.show()"
   ]
  },
  {
   "cell_type": "markdown",
   "metadata": {},
   "source": [
    "## Timing Distributions\n",
    "\n",
    "Age, uptime, addr/port uptime distributions."
   ]
  },
  {
   "cell_type": "code",
   "execution_count": 396,
   "metadata": {
    "collapsed": false
   },
   "outputs": [
    {
     "data": {
      "image/png": "[encoded data removed]",
      "text/plain": [
       "<matplotlib.figure.Figure at 0x12e5f72e8>"
      ]
     },
     "metadata": {},
     "output_type": "display_data"
    }
   ],
   "source": [
    "fig = plt.figure()\n",
    "ax1 = fig.add_subplot(221)\n",
    "a = relayDF[relayDF.age>0].age.apply(lambda x: math.log(x))\n",
    "e = relayDF[relayDF.age>0].age[(relayDF.exit==1)].apply(lambda x: math.log(x))\n",
    "g = relayDF[relayDF.age>0].age[(relayDF.guard==1)].apply(lambda x: math.log(x))\n",
    "ax1.hist((a,e,g),normed=True,label=['all','exit','guard'],alpha=0.7)\n",
    "fit = stats.norm.pdf(a.sort_values(), a.mean(), a.std())\n",
    "ax1.plot(a.sort_values(),fit,color='b')\n",
    "fit = stats.norm.pdf(e.sort_values(), e.mean(), e.std())\n",
    "ax1.plot(e.sort_values(),fit,color='g')\n",
    "fit = stats.norm.pdf(g.sort_values(), g.mean(), g.std())\n",
    "ax1.plot(g.sort_values(),fit,color='r')\n",
    "ax1.set_title(\"Age Distribution\")\n",
    "ax1.set_ylabel(\"Frequency\")\n",
    "ax1.set_xlabel(\"Age (log(s))\")\n",
    "ax1.set_xlim(xmin=a.min(),xmax=a.max())\n",
    "ax1.set_ylim(ymin=0)\n",
    "\n",
    "ax2 = fig.add_subplot(222)\n",
    "a = relayDF[relayDF.uptime>0].uptime.apply(lambda x: math.log(x))\n",
    "e = relayDF[relayDF.uptime>0].uptime[(relayDF.exit==1)].apply(lambda x: math.log(x))\n",
    "g = relayDF[relayDF.uptime>0].uptime[(relayDF.guard==1)].apply(lambda x: math.log(x))\n",
    "ax2.hist((a,e,g),normed=True,label=['all','exit','guard'],alpha=0.7)\n",
    "fit = stats.norm.pdf(a.sort_values(), a.mean(), a.std())\n",
    "ax2.plot(a.sort_values(),fit,color='b')\n",
    "fit = stats.norm.pdf(e.sort_values(), e.mean(), e.std())\n",
    "ax2.plot(e.sort_values(),fit,color='g')\n",
    "fit = stats.norm.pdf(g.sort_values(), g.mean(), g.std())\n",
    "ax2.plot(g.sort_values(),fit,color='r')\n",
    "ax2.set_title(\"Uptime Distribution\")\n",
    "ax2.set_ylabel(\"Frequency\")\n",
    "ax2.set_xlabel(\"Uptime (log(s))\")\n",
    "ax2.set_xlim(xmin=a.min(),xmax=a.max())\n",
    "ax2.set_ylim(ymin=0)\n",
    "\n",
    "ax3 = fig.add_subplot(223)\n",
    "a = relayDF[relayDF.address_port_uptime>0].uptime.apply(lambda x: math.log(x))\n",
    "e = relayDF[relayDF.address_port_uptime>0].address_port_uptime[(relayDF.exit==1)].apply(lambda x: math.log(x))\n",
    "g = relayDF[relayDF.address_port_uptime>0].address_port_uptime[(relayDF.guard==1)].apply(lambda x: math.log(x))\n",
    "ax3.hist((a,e,g),normed=True,label=['all','exit','guard'],alpha=0.7)\n",
    "fit = stats.norm.pdf(a.sort_values(), a.mean(), a.std())\n",
    "ax3.plot(a.sort_values(),fit,color='b')\n",
    "fit = stats.norm.pdf(e.sort_values(), e.mean(), e.std())\n",
    "ax3.plot(e.sort_values(),fit,color='g')\n",
    "fit = stats.norm.pdf(g.sort_values(), g.mean(), g.std())\n",
    "ax3.plot(g.sort_values(),fit,color='r')\n",
    "ax3.set_title(\"Address or Port Uptime Distribution\")\n",
    "ax3.set_ylabel(\"Frequency\")\n",
    "ax3.set_xlabel(\"Address or Port Uptime (log(s))\")\n",
    "ax3.set_xlim(xmin=a.min(),xmax=a.max())\n",
    "ax3.set_ylim(ymin=0)\n",
    "\n",
    "plt.legend(bbox_to_anchor=(2, 1))\n",
    "plt.tight_layout()\n",
    "# plt.savefig('./images/12-18-log-norm_age_distribution',dpi=1000)\n",
    "plt.show()"
   ]
  },
  {
   "cell_type": "code",
   "execution_count": 407,
   "metadata": {
    "collapsed": false
   },
   "outputs": [
    {
     "data": {
      "image/png": "[encoded data removed]",
      "text/plain": [
       "<matplotlib.figure.Figure at 0x12c414b00>"
      ]
     },
     "metadata": {},
     "output_type": "display_data"
    }
   ],
   "source": [
    "fig = plt.figure()\n",
    "ax1 = fig.add_subplot(221)\n",
    "x = relayDF[relayDF.age>0].age.apply(lambda x: math.log(x))\n",
    "res = stats.probplot(x, plot=plt)\n",
    "ax1.set_title(\"Age\")\n",
    "ax2 = fig.add_subplot(222)\n",
    "x = relayDF[(relayDF.uptime>0)].uptime.apply(lambda x: math.log(x))\n",
    "res = stats.probplot(x, plot=plt)\n",
    "ax2.set_title(\"Uptime\")\n",
    "ax3 = fig.add_subplot(223)\n",
    "x = relayDF[(relayDF.address_port_uptime>0)].address_port_uptime.apply(lambda x: math.log(x))\n",
    "res = stats.probplot(x, plot=plt)\n",
    "ax3.set_title(\"Address or Port Uptime\")\n",
    "plt.tight_layout()\n",
    "plt.savefig(\"./images/12-18-goodness-timing-fit\",dpi=1000)\n",
    "plt.show()"
   ]
  },
  {
   "cell_type": "code",
   "execution_count": 341,
   "metadata": {
    "collapsed": false
   },
   "outputs": [
    {
     "data": {
      "image/png": "[encoded data removed]",
      "text/plain": [
       "<matplotlib.figure.Figure at 0x1195e0cc0>"
      ]
     },
     "metadata": {},
     "output_type": "display_data"
    }
   ],
   "source": [
    "fig = plt.figure()\n",
    "ax1 = fig.add_subplot(221)\n",
    "x = relayDF[relayDF.uptime>0].uptime.apply(lambda x: math.log(x))\n",
    "res = stats.probplot(x, plot=plt)\n",
    "ax2 = fig.add_subplot(222)\n",
    "x = relayDF[(relayDF.uptime>0)&(relayDF.exit==1)].uptime.apply(lambda x: math.log(x))\n",
    "res = stats.probplot(x, plot=plt)\n",
    "ax3 = fig.add_subplot(223)\n",
    "x = relayDF[(relayDF.uptime>0)&(relayDF.guard==1)].uptime.apply(lambda x: math.log(x))\n",
    "res = stats.probplot(x, plot=plt)\n",
    "ax1.set_title('Relay Uptime')\n",
    "ax2.set_title('Exit Uptime')\n",
    "ax3.set_title('Guard Uptime')\n",
    "plt.tight_layout()\n",
    "plt.savefig('./images/12-18-log_uptime_normality_plot',dpi=1000)\n",
    "plt.show()"
   ]
  },
  {
   "cell_type": "markdown",
   "metadata": {},
   "source": [
    "# Bandwidth change over time\n",
    "\n",
    "Collect bandwidth data for 500 relays. Store exit and non-exit separately. Plot bandwidth and time.\n",
    "\n",
    "\n",
    "TODO: get stdev of bandwidth over time for exit and non-exit relays and compare."
   ]
  },
  {
   "cell_type": "code",
   "execution_count": null,
   "metadata": {
    "collapsed": false
   },
   "outputs": [],
   "source": [
    "with open('bw_sample_ALL.json') as json_data:\n",
    "    resp_all = json.load(json_data)\n",
    "    \n",
    "with open('bw_sample_exitflag.json') as json_data:\n",
    "    resp_exit = json.load(json_data)\n",
    "\n",
    "with open('bw_sample_Guard.json') as json_data:\n",
    "    resp_guard = json.load(json_data)"
   ]
  },
  {
   "cell_type": "code",
   "execution_count": null,
   "metadata": {
    "collapsed": false
   },
   "outputs": [],
   "source": [
    "samples = {'3_days':{'exit':[],'all':[], 'guard':[]},\n",
    "           '1_week':{'exit':[],'all':[], 'guard':[]},\n",
    "           '1_month':{'exit':[],'all':[], 'guard':[]},\n",
    "           '3_months':{'exit':[],'all':[], 'guard':[]},\n",
    "           '1_year':{'exit':[],'all':[], 'guard':[]},\n",
    "           '5_years':{'exit':[],'all':[], 'guard':[]}}\n",
    "\n",
    "for relay in resp_all['relays']:\n",
    "    if not 'write_history' in relay:\n",
    "        pass\n",
    "    else:\n",
    "        for history in relay['write_history']:\n",
    "            samples[history]['all'].append(relay['write_history'][history]['values'][:10])\n",
    "        \n",
    "for relay in resp_exit['relays']:\n",
    "    if not 'write_history' in relay:\n",
    "        pass\n",
    "    else:\n",
    "        for history in relay['write_history']:\n",
    "            samples[history]['exit'].append(relay['write_history'][history]['values'][:10])\n",
    "            \n",
    "for relay in resp_guard['relays']:\n",
    "    if not 'write_history' in relay:\n",
    "        pass\n",
    "    else:\n",
    "        for history in relay['write_history']:\n",
    "            samples[history]['guard'].append(relay['write_history'][history]['values'][:10])"
   ]
  },
  {
   "cell_type": "code",
   "execution_count": null,
   "metadata": {
    "collapsed": false
   },
   "outputs": [],
   "source": [
    "allBW = pd.DataFrame()\n",
    "for entry in samples['5_years']['all']:\n",
    "    allBW = allBW.append(pd.DataFrame([entry]))\n",
    "allBW = allBW.transpose()\n",
    "allBW['mean'] = allBW.mean(axis=1)\n",
    "allBW"
   ]
  },
  {
   "cell_type": "code",
   "execution_count": null,
   "metadata": {
    "collapsed": false
   },
   "outputs": [],
   "source": [
    "exitBW = pd.DataFrame()\n",
    "for entry in samples['5_years']['exit']:\n",
    "    exitBW = exitBW.append(pd.DataFrame([entry]))\n",
    "exitBW = exitBW.transpose()\n",
    "exitBW['mean'] = exitBW.mean(axis=1)\n",
    "exitBW.head()"
   ]
  },
  {
   "cell_type": "code",
   "execution_count": null,
   "metadata": {
    "collapsed": false
   },
   "outputs": [],
   "source": [
    "guardBW = pd.DataFrame()\n",
    "for entry in samples['5_years']['guard']:\n",
    "    guardBW = guardBW.append(pd.DataFrame([entry]))\n",
    "guardBW = guardBW.transpose()\n",
    "guardBW['mean'] = guardBW.mean(axis=1)\n",
    "guardBW"
   ]
  },
  {
   "cell_type": "code",
   "execution_count": null,
   "metadata": {
    "collapsed": false
   },
   "outputs": [],
   "source": [
    "fig = plt.figure()\n",
    "ax1 = fig.add_subplot(111)\n",
    "x = [i*10 for i in range(0,10)]\n",
    "ax1.plot(x, exitBW['mean'], c='b', marker=\"s\", label='exit')\n",
    "ax1.plot(x, allBW['mean'], c='r', marker=\"o\", label='all')\n",
    "ax1.plot(x, guardBW['mean'], c='g', marker=\"v\", label='guard')\n",
    "plt.legend(loc='lower right')\n",
    "plt.title('Bandwidth')\n",
    "plt.xlabel('Time (days)')\n",
    "plt.ylabel('Bandwidth')\n",
    "fig.savefig('./images/time_bandwidth.png', dpi=1000)\n",
    "plt.show()"
   ]
  },
  {
   "cell_type": "markdown",
   "metadata": {},
   "source": [
    "# Correlations\n",
    "\n",
    "Looking for correlation between the data"
   ]
  },
  {
   "cell_type": "code",
   "execution_count": null,
   "metadata": {
    "collapsed": false
   },
   "outputs": [],
   "source": [
    "logDF = log_normalize(relayDF,['bandwidth','consensus_weight'])\n",
    "# logDF = relayDF.copy()\n",
    "# logDF = logDF[(logDF.bandwidth>0)&(logDF.consensus_weight>0)]\n",
    "# logDF.bandwidth = logDF.bandwidth.apply(lambda x: math.log(x))\n",
    "# logDF.consensus_weight = logDF.consensus_weight.apply(lambda x: math.log(x))\n",
    "A = logDF[(logDF.guard==0)&(logDF.exit==0)]\n",
    "E = logDF[logDF.exit==1]\n",
    "G = logDF[logDF.guard==1]\n",
    "plot_feature(A,E,G,'bandwidth','consensus_weight')"
   ]
  },
  {
   "cell_type": "code",
   "execution_count": null,
   "metadata": {
    "collapsed": false
   },
   "outputs": [],
   "source": [
    "# logDF = log_normalize(relayDF,['bandwidth','uptime'])\n",
    "logDF = relayDF.copy()\n",
    "logDF = logDF[(logDF.bandwidth>0)&(logDF.uptime>0)]\n",
    "logDF.bandwidth = logDF.bandwidth.apply(lambda x: math.log(x))\n",
    "logDF.uptime = logDF.uptime.apply(lambda x: math.log(x))\n",
    "A = logDF[(logDF.guard==0)&(logDF.exit==0)]\n",
    "E = logDF[logDF.exit==1]\n",
    "G = logDF[logDF.guard==1]\n",
    "plot_feature(A,E,G,'bandwidth','uptime')"
   ]
  },
  {
   "cell_type": "code",
   "execution_count": null,
   "metadata": {
    "collapsed": false
   },
   "outputs": [],
   "source": [
    "logDF = log_normalize(relayDF,['bandwidth','age'])\n",
    "# logDF = relayDF.copy()\n",
    "# logDF = logDF[(logDF.bandwidth>0)&(logDF.consensus_weight>0)]\n",
    "# logDF.bandwidth = logDF.bandwidth.apply(lambda x: math.log(x))\n",
    "# logDF.consensus_weight = logDF.consensus_weight.apply(lambda x: math.log(x))\n",
    "A = logDF[(logDF.guard==0)&(logDF.exit==0)]\n",
    "E = logDF[logDF.exit==1]\n",
    "G = logDF[logDF.guard==1]\n",
    "plot_feature(A,E,G,'bandwidth','age')"
   ]
  },
  {
   "cell_type": "code",
   "execution_count": null,
   "metadata": {
    "collapsed": false
   },
   "outputs": [],
   "source": [
    "logDF = log_normalize(relayDF,['bandwidth','ports_accepted'])\n",
    "A = logDF[(logDF.guard==0)&(logDF.exit==0)]\n",
    "E = logDF[logDF.exit==1]\n",
    "G = logDF[logDF.guard==1]\n",
    "plot_feature(A,E,G,'bandwidth','ports_accepted')"
   ]
  },
  {
   "cell_type": "code",
   "execution_count": null,
   "metadata": {
    "collapsed": false
   },
   "outputs": [],
   "source": [
    "logDF = log_normalize(relayDF,['bandwidth'])\n",
    "A = logDF[(logDF.guard==0)&(logDF.exit==0)]\n",
    "E = logDF[logDF.exit==1]\n",
    "G = logDF[logDF.guard==1]\n",
    "plot_feature(A,E,G,'bandwidth','family_size')"
   ]
  },
  {
   "cell_type": "code",
   "execution_count": null,
   "metadata": {
    "collapsed": false
   },
   "outputs": [],
   "source": [
    "# logDF = log_normalize(relayDF,['family_size','age'])\n",
    "A = relayDF[(relayDF.guard==0)&(relayDF.exit==0)]\n",
    "E = relayDF[relayDF.exit==1]\n",
    "G = relayDF[relayDF.guard==1]\n",
    "plot_feature(A,E,G,'family_size','age')"
   ]
  },
  {
   "cell_type": "markdown",
   "metadata": {},
   "source": [
    "# Machine Learning\n",
    "\n",
    "Here we use regression models to predict lifespans and classification models to classify relays as either exit or non-exit."
   ]
  },
  {
   "cell_type": "code",
   "execution_count": 2,
   "metadata": {
    "collapsed": false
   },
   "outputs": [
    {
     "name": "stdout",
     "output_type": "stream",
     "text": [
      "(8382, 32)\n"
     ]
    },
    {
     "data": {
      "text/html": [
       "<div>\n",
       "<table border=\"1\" class=\"dataframe\">\n",
       "  <thead>\n",
       "    <tr style=\"text-align: right;\">\n",
       "      <th></th>\n",
       "      <th>fingerprint</th>\n",
       "      <th>nickname</th>\n",
       "      <th>last_seen</th>\n",
       "      <th>last_restarted</th>\n",
       "      <th>last_changed_addr_port</th>\n",
       "      <th>first_seen</th>\n",
       "      <th>hibernating</th>\n",
       "      <th>age</th>\n",
       "      <th>uptime</th>\n",
       "      <th>address_port_uptime</th>\n",
       "      <th>...</th>\n",
       "      <th>exit_prob</th>\n",
       "      <th>badexit</th>\n",
       "      <th>exit</th>\n",
       "      <th>fast</th>\n",
       "      <th>guard</th>\n",
       "      <th>hsdir</th>\n",
       "      <th>stable</th>\n",
       "      <th>running</th>\n",
       "      <th>valid</th>\n",
       "      <th>v2dir</th>\n",
       "    </tr>\n",
       "  </thead>\n",
       "  <tbody>\n",
       "    <tr>\n",
       "      <th>0</th>\n",
       "      <td>2B35CC60F043B3DB6DFFE73F464A67B82B0B0B4E</td>\n",
       "      <td>torjittertrapnet</td>\n",
       "      <td>2016-12-18 14:00:00</td>\n",
       "      <td>2016-12-08 08:30:31</td>\n",
       "      <td>2016-08-10 03:00:00</td>\n",
       "      <td>2016-08-10 03:00:00</td>\n",
       "      <td>0.0</td>\n",
       "      <td>11271600.0</td>\n",
       "      <td>883769.0</td>\n",
       "      <td>11271600.0</td>\n",
       "      <td>...</td>\n",
       "      <td>0.000000</td>\n",
       "      <td>0.0</td>\n",
       "      <td>0.0</td>\n",
       "      <td>0.0</td>\n",
       "      <td>0.0</td>\n",
       "      <td>0.0</td>\n",
       "      <td>1.0</td>\n",
       "      <td>1.0</td>\n",
       "      <td>1.0</td>\n",
       "      <td>1.0</td>\n",
       "    </tr>\n",
       "    <tr>\n",
       "      <th>1</th>\n",
       "      <td>055A3CAA2582B87448301367ECD5905D138EF049</td>\n",
       "      <td>verax1</td>\n",
       "      <td>2016-12-18 14:00:00</td>\n",
       "      <td>2016-08-28 01:40:14</td>\n",
       "      <td>2016-08-28 02:00:00</td>\n",
       "      <td>2014-11-29 22:00:00</td>\n",
       "      <td>0.0</td>\n",
       "      <td>64771200.0</td>\n",
       "      <td>9721186.0</td>\n",
       "      <td>9720000.0</td>\n",
       "      <td>...</td>\n",
       "      <td>0.000000</td>\n",
       "      <td>0.0</td>\n",
       "      <td>0.0</td>\n",
       "      <td>1.0</td>\n",
       "      <td>0.0</td>\n",
       "      <td>1.0</td>\n",
       "      <td>1.0</td>\n",
       "      <td>1.0</td>\n",
       "      <td>1.0</td>\n",
       "      <td>1.0</td>\n",
       "    </tr>\n",
       "    <tr>\n",
       "      <th>2</th>\n",
       "      <td>D5F2C65F4131A1468D5B67A8838A9B7ED8C049E2</td>\n",
       "      <td>che</td>\n",
       "      <td>2016-12-18 14:00:00</td>\n",
       "      <td>2016-12-08 18:02:47</td>\n",
       "      <td>2016-06-20 14:00:00</td>\n",
       "      <td>2007-10-27 12:00:00</td>\n",
       "      <td>0.0</td>\n",
       "      <td>288583200.0</td>\n",
       "      <td>849433.0</td>\n",
       "      <td>15638400.0</td>\n",
       "      <td>...</td>\n",
       "      <td>0.000006</td>\n",
       "      <td>0.0</td>\n",
       "      <td>1.0</td>\n",
       "      <td>1.0</td>\n",
       "      <td>0.0</td>\n",
       "      <td>1.0</td>\n",
       "      <td>1.0</td>\n",
       "      <td>1.0</td>\n",
       "      <td>1.0</td>\n",
       "      <td>1.0</td>\n",
       "    </tr>\n",
       "    <tr>\n",
       "      <th>3</th>\n",
       "      <td>0F69025EA0A61A96E5444A8BF39A8B1335488610</td>\n",
       "      <td>Uni25</td>\n",
       "      <td>2016-12-18 14:00:00</td>\n",
       "      <td>2016-11-28 23:11:16</td>\n",
       "      <td>2016-10-25 16:00:00</td>\n",
       "      <td>2015-04-24 21:00:00</td>\n",
       "      <td>0.0</td>\n",
       "      <td>52160400.0</td>\n",
       "      <td>1694924.0</td>\n",
       "      <td>4658400.0</td>\n",
       "      <td>...</td>\n",
       "      <td>0.000000</td>\n",
       "      <td>0.0</td>\n",
       "      <td>0.0</td>\n",
       "      <td>1.0</td>\n",
       "      <td>0.0</td>\n",
       "      <td>1.0</td>\n",
       "      <td>1.0</td>\n",
       "      <td>1.0</td>\n",
       "      <td>1.0</td>\n",
       "      <td>1.0</td>\n",
       "    </tr>\n",
       "    <tr>\n",
       "      <th>4</th>\n",
       "      <td>2A587ED761FB8CF8AA7CB77164455479C002141B</td>\n",
       "      <td>Unnamed</td>\n",
       "      <td>2016-12-18 14:00:00</td>\n",
       "      <td>2016-12-12 23:06:28</td>\n",
       "      <td>2016-12-12 23:00:00</td>\n",
       "      <td>2016-12-12 23:00:00</td>\n",
       "      <td>0.0</td>\n",
       "      <td>486000.0</td>\n",
       "      <td>485612.0</td>\n",
       "      <td>486000.0</td>\n",
       "      <td>...</td>\n",
       "      <td>0.000000</td>\n",
       "      <td>0.0</td>\n",
       "      <td>0.0</td>\n",
       "      <td>1.0</td>\n",
       "      <td>0.0</td>\n",
       "      <td>1.0</td>\n",
       "      <td>1.0</td>\n",
       "      <td>1.0</td>\n",
       "      <td>1.0</td>\n",
       "      <td>1.0</td>\n",
       "    </tr>\n",
       "  </tbody>\n",
       "</table>\n",
       "<p>5 rows × 32 columns</p>\n",
       "</div>"
      ],
      "text/plain": [
       "                                fingerprint          nickname  \\\n",
       "0  2B35CC60F043B3DB6DFFE73F464A67B82B0B0B4E  torjittertrapnet   \n",
       "1  055A3CAA2582B87448301367ECD5905D138EF049            verax1   \n",
       "2  D5F2C65F4131A1468D5B67A8838A9B7ED8C049E2               che   \n",
       "3  0F69025EA0A61A96E5444A8BF39A8B1335488610             Uni25   \n",
       "4  2A587ED761FB8CF8AA7CB77164455479C002141B           Unnamed   \n",
       "\n",
       "             last_seen       last_restarted last_changed_addr_port  \\\n",
       "0  2016-12-18 14:00:00  2016-12-08 08:30:31    2016-08-10 03:00:00   \n",
       "1  2016-12-18 14:00:00  2016-08-28 01:40:14    2016-08-28 02:00:00   \n",
       "2  2016-12-18 14:00:00  2016-12-08 18:02:47    2016-06-20 14:00:00   \n",
       "3  2016-12-18 14:00:00  2016-11-28 23:11:16    2016-10-25 16:00:00   \n",
       "4  2016-12-18 14:00:00  2016-12-12 23:06:28    2016-12-12 23:00:00   \n",
       "\n",
       "            first_seen  hibernating          age     uptime  \\\n",
       "0  2016-08-10 03:00:00          0.0   11271600.0   883769.0   \n",
       "1  2014-11-29 22:00:00          0.0   64771200.0  9721186.0   \n",
       "2  2007-10-27 12:00:00          0.0  288583200.0   849433.0   \n",
       "3  2015-04-24 21:00:00          0.0   52160400.0  1694924.0   \n",
       "4  2016-12-12 23:00:00          0.0     486000.0   485612.0   \n",
       "\n",
       "   address_port_uptime  ...    exit_prob  badexit  exit  fast  guard  hsdir  \\\n",
       "0           11271600.0  ...     0.000000      0.0   0.0   0.0    0.0    0.0   \n",
       "1            9720000.0  ...     0.000000      0.0   0.0   1.0    0.0    1.0   \n",
       "2           15638400.0  ...     0.000006      0.0   1.0   1.0    0.0    1.0   \n",
       "3            4658400.0  ...     0.000000      0.0   0.0   1.0    0.0    1.0   \n",
       "4             486000.0  ...     0.000000      0.0   0.0   1.0    0.0    1.0   \n",
       "\n",
       "  stable running  valid  v2dir  \n",
       "0    1.0     1.0    1.0    1.0  \n",
       "1    1.0     1.0    1.0    1.0  \n",
       "2    1.0     1.0    1.0    1.0  \n",
       "3    1.0     1.0    1.0    1.0  \n",
       "4    1.0     1.0    1.0    1.0  \n",
       "\n",
       "[5 rows x 32 columns]"
      ]
     },
     "execution_count": 2,
     "metadata": {},
     "output_type": "execute_result"
    }
   ],
   "source": [
    "relayDF = pd.DataFrame.from_csv('sample-12-18-16-v2dir.csv')\n",
    "print(relayDF.shape)\n",
    "relayDF.head()"
   ]
  },
  {
   "cell_type": "markdown",
   "metadata": {},
   "source": [
    "# Classification"
   ]
  },
  {
   "cell_type": "code",
   "execution_count": 42,
   "metadata": {
    "collapsed": false
   },
   "outputs": [
    {
     "name": "stdout",
     "output_type": "stream",
     "text": [
      "(8382, 32)\n"
     ]
    },
    {
     "data": {
      "text/html": [
       "<div>\n",
       "<table border=\"1\" class=\"dataframe\">\n",
       "  <thead>\n",
       "    <tr style=\"text-align: right;\">\n",
       "      <th></th>\n",
       "      <th>fingerprint</th>\n",
       "      <th>nickname</th>\n",
       "      <th>last_seen</th>\n",
       "      <th>last_restarted</th>\n",
       "      <th>last_changed_addr_port</th>\n",
       "      <th>first_seen</th>\n",
       "      <th>hibernating</th>\n",
       "      <th>age</th>\n",
       "      <th>uptime</th>\n",
       "      <th>address_port_uptime</th>\n",
       "      <th>...</th>\n",
       "      <th>exit_prob</th>\n",
       "      <th>badexit</th>\n",
       "      <th>exit</th>\n",
       "      <th>fast</th>\n",
       "      <th>guard</th>\n",
       "      <th>hsdir</th>\n",
       "      <th>stable</th>\n",
       "      <th>running</th>\n",
       "      <th>valid</th>\n",
       "      <th>v2dir</th>\n",
       "    </tr>\n",
       "  </thead>\n",
       "  <tbody>\n",
       "    <tr>\n",
       "      <th>0</th>\n",
       "      <td>2B35CC60F043B3DB6DFFE73F464A67B82B0B0B4E</td>\n",
       "      <td>torjittertrapnet</td>\n",
       "      <td>2016-12-18 14:00:00</td>\n",
       "      <td>2016-12-08 08:30:31</td>\n",
       "      <td>2016-08-10 03:00:00</td>\n",
       "      <td>2016-08-10 03:00:00</td>\n",
       "      <td>0.0</td>\n",
       "      <td>11271600.0</td>\n",
       "      <td>883769.0</td>\n",
       "      <td>11271600.0</td>\n",
       "      <td>...</td>\n",
       "      <td>0.000000</td>\n",
       "      <td>0.0</td>\n",
       "      <td>0.0</td>\n",
       "      <td>0.0</td>\n",
       "      <td>0.0</td>\n",
       "      <td>0.0</td>\n",
       "      <td>1.0</td>\n",
       "      <td>1.0</td>\n",
       "      <td>1.0</td>\n",
       "      <td>1.0</td>\n",
       "    </tr>\n",
       "    <tr>\n",
       "      <th>1</th>\n",
       "      <td>055A3CAA2582B87448301367ECD5905D138EF049</td>\n",
       "      <td>verax1</td>\n",
       "      <td>2016-12-18 14:00:00</td>\n",
       "      <td>2016-08-28 01:40:14</td>\n",
       "      <td>2016-08-28 02:00:00</td>\n",
       "      <td>2014-11-29 22:00:00</td>\n",
       "      <td>0.0</td>\n",
       "      <td>64771200.0</td>\n",
       "      <td>9721186.0</td>\n",
       "      <td>9720000.0</td>\n",
       "      <td>...</td>\n",
       "      <td>0.000000</td>\n",
       "      <td>0.0</td>\n",
       "      <td>0.0</td>\n",
       "      <td>1.0</td>\n",
       "      <td>0.0</td>\n",
       "      <td>1.0</td>\n",
       "      <td>1.0</td>\n",
       "      <td>1.0</td>\n",
       "      <td>1.0</td>\n",
       "      <td>1.0</td>\n",
       "    </tr>\n",
       "    <tr>\n",
       "      <th>2</th>\n",
       "      <td>D5F2C65F4131A1468D5B67A8838A9B7ED8C049E2</td>\n",
       "      <td>che</td>\n",
       "      <td>2016-12-18 14:00:00</td>\n",
       "      <td>2016-12-08 18:02:47</td>\n",
       "      <td>2016-06-20 14:00:00</td>\n",
       "      <td>2007-10-27 12:00:00</td>\n",
       "      <td>0.0</td>\n",
       "      <td>288583200.0</td>\n",
       "      <td>849433.0</td>\n",
       "      <td>15638400.0</td>\n",
       "      <td>...</td>\n",
       "      <td>0.000006</td>\n",
       "      <td>0.0</td>\n",
       "      <td>1.0</td>\n",
       "      <td>1.0</td>\n",
       "      <td>0.0</td>\n",
       "      <td>1.0</td>\n",
       "      <td>1.0</td>\n",
       "      <td>1.0</td>\n",
       "      <td>1.0</td>\n",
       "      <td>1.0</td>\n",
       "    </tr>\n",
       "    <tr>\n",
       "      <th>3</th>\n",
       "      <td>0F69025EA0A61A96E5444A8BF39A8B1335488610</td>\n",
       "      <td>Uni25</td>\n",
       "      <td>2016-12-18 14:00:00</td>\n",
       "      <td>2016-11-28 23:11:16</td>\n",
       "      <td>2016-10-25 16:00:00</td>\n",
       "      <td>2015-04-24 21:00:00</td>\n",
       "      <td>0.0</td>\n",
       "      <td>52160400.0</td>\n",
       "      <td>1694924.0</td>\n",
       "      <td>4658400.0</td>\n",
       "      <td>...</td>\n",
       "      <td>0.000000</td>\n",
       "      <td>0.0</td>\n",
       "      <td>0.0</td>\n",
       "      <td>1.0</td>\n",
       "      <td>0.0</td>\n",
       "      <td>1.0</td>\n",
       "      <td>1.0</td>\n",
       "      <td>1.0</td>\n",
       "      <td>1.0</td>\n",
       "      <td>1.0</td>\n",
       "    </tr>\n",
       "    <tr>\n",
       "      <th>4</th>\n",
       "      <td>2A587ED761FB8CF8AA7CB77164455479C002141B</td>\n",
       "      <td>Unnamed</td>\n",
       "      <td>2016-12-18 14:00:00</td>\n",
       "      <td>2016-12-12 23:06:28</td>\n",
       "      <td>2016-12-12 23:00:00</td>\n",
       "      <td>2016-12-12 23:00:00</td>\n",
       "      <td>0.0</td>\n",
       "      <td>486000.0</td>\n",
       "      <td>485612.0</td>\n",
       "      <td>486000.0</td>\n",
       "      <td>...</td>\n",
       "      <td>0.000000</td>\n",
       "      <td>0.0</td>\n",
       "      <td>0.0</td>\n",
       "      <td>1.0</td>\n",
       "      <td>0.0</td>\n",
       "      <td>1.0</td>\n",
       "      <td>1.0</td>\n",
       "      <td>1.0</td>\n",
       "      <td>1.0</td>\n",
       "      <td>1.0</td>\n",
       "    </tr>\n",
       "  </tbody>\n",
       "</table>\n",
       "<p>5 rows × 32 columns</p>\n",
       "</div>"
      ],
      "text/plain": [
       "                                fingerprint          nickname  \\\n",
       "0  2B35CC60F043B3DB6DFFE73F464A67B82B0B0B4E  torjittertrapnet   \n",
       "1  055A3CAA2582B87448301367ECD5905D138EF049            verax1   \n",
       "2  D5F2C65F4131A1468D5B67A8838A9B7ED8C049E2               che   \n",
       "3  0F69025EA0A61A96E5444A8BF39A8B1335488610             Uni25   \n",
       "4  2A587ED761FB8CF8AA7CB77164455479C002141B           Unnamed   \n",
       "\n",
       "             last_seen       last_restarted last_changed_addr_port  \\\n",
       "0  2016-12-18 14:00:00  2016-12-08 08:30:31    2016-08-10 03:00:00   \n",
       "1  2016-12-18 14:00:00  2016-08-28 01:40:14    2016-08-28 02:00:00   \n",
       "2  2016-12-18 14:00:00  2016-12-08 18:02:47    2016-06-20 14:00:00   \n",
       "3  2016-12-18 14:00:00  2016-11-28 23:11:16    2016-10-25 16:00:00   \n",
       "4  2016-12-18 14:00:00  2016-12-12 23:06:28    2016-12-12 23:00:00   \n",
       "\n",
       "            first_seen  hibernating          age     uptime  \\\n",
       "0  2016-08-10 03:00:00          0.0   11271600.0   883769.0   \n",
       "1  2014-11-29 22:00:00          0.0   64771200.0  9721186.0   \n",
       "2  2007-10-27 12:00:00          0.0  288583200.0   849433.0   \n",
       "3  2015-04-24 21:00:00          0.0   52160400.0  1694924.0   \n",
       "4  2016-12-12 23:00:00          0.0     486000.0   485612.0   \n",
       "\n",
       "   address_port_uptime  ...    exit_prob  badexit  exit  fast  guard  hsdir  \\\n",
       "0           11271600.0  ...     0.000000      0.0   0.0   0.0    0.0    0.0   \n",
       "1            9720000.0  ...     0.000000      0.0   0.0   1.0    0.0    1.0   \n",
       "2           15638400.0  ...     0.000006      0.0   1.0   1.0    0.0    1.0   \n",
       "3            4658400.0  ...     0.000000      0.0   0.0   1.0    0.0    1.0   \n",
       "4             486000.0  ...     0.000000      0.0   0.0   1.0    0.0    1.0   \n",
       "\n",
       "  stable running  valid  v2dir  \n",
       "0    1.0     1.0    1.0    1.0  \n",
       "1    1.0     1.0    1.0    1.0  \n",
       "2    1.0     1.0    1.0    1.0  \n",
       "3    1.0     1.0    1.0    1.0  \n",
       "4    1.0     1.0    1.0    1.0  \n",
       "\n",
       "[5 rows x 32 columns]"
      ]
     },
     "execution_count": 42,
     "metadata": {},
     "output_type": "execute_result"
    }
   ],
   "source": [
    "relayDF = pd.DataFrame.from_csv('sample-12-18-16-v2dir.csv')\n",
    "print(relayDF.shape)\n",
    "relayDF.head()"
   ]
  },
  {
   "cell_type": "code",
   "execution_count": 43,
   "metadata": {
    "collapsed": false
   },
   "outputs": [],
   "source": [
    "log_cols = ['uptime','address_port_uptime','advertised_bandwidth','consensus_weight']\n",
    "df = relayDF.copy()\n",
    "df = df[(df.uptime>0)&(df.address_port_uptime>0)&(df.advertised_bandwidth>0)&(df.consensus_weight>0)]\n",
    "# for col in log_cols:\n",
    "#     df[col] = df[col].apply(lambda x: math.log(x))\n",
    "# print(df.shape)"
   ]
  },
  {
   "cell_type": "code",
   "execution_count": 44,
   "metadata": {
    "collapsed": false
   },
   "outputs": [
    {
     "name": "stdout",
     "output_type": "stream",
     "text": [
      "(7158, 32)\n"
     ]
    }
   ],
   "source": [
    "label = 'guard'\n",
    "feats = ['advertised_bandwidth',\n",
    "         'fast',\n",
    "         'exit',\n",
    "         'age',\n",
    "         'stable',\n",
    "         'v2dir',\n",
    "#          'family_size',\n",
    "         'consensus_weight',\n",
    "         'ports_accepted',\n",
    "         'uptime',\n",
    "         'address_port_uptime']\n",
    "\n",
    "# Remove NaN feature rows\n",
    "for feat in feats:\n",
    "    df = df[np.isfinite(df[feat])]\n",
    "print(df.shape)"
   ]
  },
  {
   "cell_type": "code",
   "execution_count": 41,
   "metadata": {
    "collapsed": true
   },
   "outputs": [],
   "source": [
    "for feat in feats:\n",
    "    df[feat] = normalize(df[feat])"
   ]
  },
  {
   "cell_type": "code",
   "execution_count": 465,
   "metadata": {
    "collapsed": false
   },
   "outputs": [
    {
     "name": "stdout",
     "output_type": "stream",
     "text": [
      "(7157, 32)\n"
     ]
    }
   ],
   "source": [
    "# If it's an odd length, we need to drop one entry before splitting\n",
    "df = df[:-1]\n",
    "print(df.shape)"
   ]
  },
  {
   "cell_type": "code",
   "execution_count": 45,
   "metadata": {
    "collapsed": true
   },
   "outputs": [],
   "source": [
    "# Split our data in half. We train on 50% and test on the other 50%.\n",
    "# There's definitely better ways to split to make sure we get even\n",
    "# distribution of elements but this is good enough for now.\n",
    "\n",
    "# Labels\n",
    "Y_all = np.asarray(df[label])\n",
    "Y_train, Y_test = np.split(Y_all,2)\n",
    "\n",
    "# Features\n",
    "X_all = df[feats].as_matrix()\n",
    "X_train, X_test = np.split(X_all,2)"
   ]
  },
  {
   "cell_type": "markdown",
   "metadata": {},
   "source": [
    "### Here's a look at what we end up with:"
   ]
  },
  {
   "cell_type": "code",
   "execution_count": 46,
   "metadata": {
    "collapsed": false
   },
   "outputs": [
    {
     "data": {
      "text/plain": [
       "((3579,), (3579,))"
      ]
     },
     "execution_count": 46,
     "metadata": {},
     "output_type": "execute_result"
    }
   ],
   "source": [
    "Y_train.shape,Y_test.shape"
   ]
  },
  {
   "cell_type": "code",
   "execution_count": 47,
   "metadata": {
    "collapsed": false
   },
   "outputs": [
    {
     "data": {
      "text/plain": [
       "((3579, 10), (3579, 10))"
      ]
     },
     "execution_count": 47,
     "metadata": {},
     "output_type": "execute_result"
    }
   ],
   "source": [
    "X_train.shape,X_test.shape"
   ]
  },
  {
   "cell_type": "markdown",
   "metadata": {},
   "source": [
    "## K-Nearest Neighbours"
   ]
  },
  {
   "cell_type": "code",
   "execution_count": 27,
   "metadata": {
    "collapsed": false
   },
   "outputs": [
    {
     "data": {
      "text/plain": [
       "(5.558411214953271, 32.0, 7.509236669180393)"
      ]
     },
     "execution_count": 27,
     "metadata": {},
     "output_type": "execute_result"
    }
   ],
   "source": [
    "# Pick k based on average family size\n",
    "df.effective_family.mean(), df.effective_family.max(), statistics.stdev(df.effective_family[np.isfinite(df.effective_family)])"
   ]
  },
  {
   "cell_type": "code",
   "execution_count": 28,
   "metadata": {
    "collapsed": false
   },
   "outputs": [
    {
     "name": "stdout",
     "output_type": "stream",
     "text": [
      "(26, 0.94300083822296732)\n"
     ]
    }
   ],
   "source": [
    "from sklearn.metrics import accuracy_score\n",
    "from sklearn.neighbors import KNeighborsClassifier\n",
    "\n",
    "scores = []\n",
    "\n",
    "for k in range(1,32):\n",
    "    model = KNeighborsClassifier(n_neighbors=k)\n",
    "    model.fit(X_train,Y_train)\n",
    "    Y_pred = model.predict(X_test)\n",
    "    scores.append((k,accuracy_score(Y_test,Y_pred, normalize=True)))\n",
    "    \n",
    "print(max(scores,key=lambda item:item[1]))"
   ]
  },
  {
   "cell_type": "markdown",
   "metadata": {},
   "source": [
    "## Logistic Regression"
   ]
  },
  {
   "cell_type": "code",
   "execution_count": 29,
   "metadata": {
    "collapsed": false
   },
   "outputs": [
    {
     "data": {
      "text/plain": [
       "0.93797150041911148"
      ]
     },
     "execution_count": 29,
     "metadata": {},
     "output_type": "execute_result"
    }
   ],
   "source": [
    "from sklearn.linear_model import LogisticRegression\n",
    "\n",
    "model = LogisticRegression()\n",
    "model.fit(X_train,Y_train)\n",
    "Y_pred = model.predict(X_test)\n",
    "accuracy_score(Y_test,Y_pred, normalize=True)"
   ]
  },
  {
   "cell_type": "markdown",
   "metadata": {},
   "source": [
    "## Naive Bayes"
   ]
  },
  {
   "cell_type": "code",
   "execution_count": 30,
   "metadata": {
    "collapsed": false
   },
   "outputs": [
    {
     "data": {
      "text/plain": [
       "0.90108968985750204"
      ]
     },
     "execution_count": 30,
     "metadata": {},
     "output_type": "execute_result"
    }
   ],
   "source": [
    "from sklearn.naive_bayes import BernoulliNB\n",
    "\n",
    "model = BernoulliNB()\n",
    "model.fit(X_train,Y_train)\n",
    "Y_pred = model.predict(X_test)\n",
    "accuracy_score(Y_test,Y_pred, normalize=True)"
   ]
  },
  {
   "cell_type": "code",
   "execution_count": 31,
   "metadata": {
    "collapsed": false
   },
   "outputs": [
    {
     "data": {
      "text/plain": [
       "0.72562168203408772"
      ]
     },
     "execution_count": 31,
     "metadata": {},
     "output_type": "execute_result"
    }
   ],
   "source": [
    "from sklearn.naive_bayes import GaussianNB\n",
    "\n",
    "model = GaussianNB()\n",
    "model.fit(X_train,Y_train)\n",
    "Y_pred = model.predict(X_test)\n",
    "accuracy_score(Y_test,Y_pred, normalize=True)"
   ]
  },
  {
   "cell_type": "markdown",
   "metadata": {},
   "source": [
    "## Decision Tree"
   ]
  },
  {
   "cell_type": "code",
   "execution_count": 48,
   "metadata": {
    "collapsed": false
   },
   "outputs": [
    {
     "data": {
      "text/plain": [
       "0.93182453199217663"
      ]
     },
     "execution_count": 48,
     "metadata": {},
     "output_type": "execute_result"
    }
   ],
   "source": [
    "from sklearn.tree import DecisionTreeClassifier\n",
    "\n",
    "model = DecisionTreeClassifier()\n",
    "model.fit(X_train,Y_train)\n",
    "Y_pred = model.predict(X_test)\n",
    "accuracy_score(Y_test,Y_pred, normalize=True)"
   ]
  },
  {
   "cell_type": "markdown",
   "metadata": {},
   "source": [
    "## Random Forest\n",
    "\n",
    "This one allows us to get the features that had the biggest impact on decision making."
   ]
  },
  {
   "cell_type": "code",
   "execution_count": 57,
   "metadata": {
    "collapsed": false
   },
   "outputs": [
    {
     "data": {
      "text/plain": [
       "0.95250069851913943"
      ]
     },
     "execution_count": 57,
     "metadata": {},
     "output_type": "execute_result"
    }
   ],
   "source": [
    "from sklearn.ensemble import RandomForestClassifier\n",
    "\n",
    "model = RandomForestClassifier()\n",
    "model.fit(X_train,Y_train)\n",
    "Y_pred = model.predict(X_test)\n",
    "accuracy_score(Y_test,Y_pred, normalize=True)"
   ]
  },
  {
   "cell_type": "code",
   "execution_count": 58,
   "metadata": {
    "collapsed": false
   },
   "outputs": [],
   "source": [
    "imp = model.feature_importances_\n",
    "\n",
    "feat_wt = [(feats[i],imp[i]) for i in range(len(imp))]\n",
    "feat_wt = sorted(feat_wt, key=lambda x: x[1])"
   ]
  },
  {
   "cell_type": "code",
   "execution_count": 59,
   "metadata": {
    "collapsed": false
   },
   "outputs": [
    {
     "name": "stdout",
     "output_type": "stream",
     "text": [
      "[ 0.55197606  0.03198492  0.00191007  0.03460119  0.04428406  0.00836103\n",
      "  0.224541    0.00952945  0.05602123  0.03679099]\n",
      "['advertised_bandwidth', 'fast', 'exit', 'age', 'stable', 'v2dir', 'consensus_weight', 'ports_accepted', 'uptime', 'address_port_uptime']\n"
     ]
    }
   ],
   "source": [
    "print(imp)\n",
    "print(feats)"
   ]
  },
  {
   "cell_type": "code",
   "execution_count": 60,
   "metadata": {
    "collapsed": false
   },
   "outputs": [
    {
     "data": {
      "image/png": "[encoded data removed]",
      "text/plain": [
       "<matplotlib.figure.Figure at 0x120984400>"
      ]
     },
     "metadata": {},
     "output_type": "display_data"
    }
   ],
   "source": [
    "colors = ['#EB7BC0',\n",
    "          '#4AAD52',\n",
    "          '#FF8552',\n",
    "          '#990033',\n",
    "          '#4DCCBD',\n",
    "          '#FFE74C',\n",
    "          '#BC96E6',\n",
    "          '#ED217C',\n",
    "          '#7161EF',\n",
    "          '#D84727']\n",
    "plt.pie([i[1] for i in feat_wt],\n",
    "        labels=[i[0] for i in feat_wt],\n",
    "        shadow=False,\n",
    "        autopct='%1.2f%%',\n",
    "        startangle=200,\n",
    "        pctdistance=0.75,\n",
    "        labeldistance=1.1,\n",
    "        colors=colors[:len(imp)])\n",
    "plt.axis('equal')\n",
    "plt.title(\"Feature Importance\")\n",
    "plt.savefig('./images/feature_importance.png',dpi=1000)\n",
    "plt.show()"
   ]
  },
  {
   "cell_type": "code",
   "execution_count": 61,
   "metadata": {
    "collapsed": false
   },
   "outputs": [
    {
     "name": "stdout",
     "output_type": "stream",
     "text": [
      "(3, 6, 0.95529477507683713)\n"
     ]
    }
   ],
   "source": [
    "scores = []\n",
    "for i in range(2,10):\n",
    "    for j in range(2,10):\n",
    "        estimator = DecisionTreeClassifier(max_depth=i,max_leaf_nodes=j)\n",
    "        estimator.fit(X_train, Y_train)\n",
    "        Y_pred = estimator.predict(X_test)\n",
    "        scores.append((i,j,accuracy_score(Y_test,Y_pred, normalize=True)))\n",
    "print(max(scores,key=lambda item:item[2]))"
   ]
  },
  {
   "cell_type": "code",
   "execution_count": 62,
   "metadata": {
    "collapsed": false,
    "scrolled": true
   },
   "outputs": [
    {
     "name": "stdout",
     "output_type": "stream",
     "text": [
      "The binary tree structure has 15 nodes and has the following tree structure:\n",
      "node=0 test node: go to node 1 if X[:, 0] <= 2095888.5s else to node 2.\n",
      "\tnode=1 test node: go to node 7 if X[:, 6] <= 6.12003641436e-05s else to node 8.\n",
      "\tnode=2 test node: go to node 3 if X[:, 4] <= 0.5s else to node 4.\n",
      "\t\tnode=3 leaf node.\n",
      "\t\tnode=4 test node: go to node 5 if X[:, 6] <= 4.13314992329e-05s else to node 6.\n",
      "\t\t\tnode=5 leaf node.\n",
      "\t\t\tnode=6 test node: go to node 9 if X[:, 3] <= 703800.0s else to node 10.\n",
      "\t\tnode=7 leaf node.\n",
      "\t\tnode=8 test node: go to node 13 if X[:, 8] <= 800265.0s else to node 14.\n",
      "\t\t\t\tnode=9 leaf node.\n",
      "\t\t\t\tnode=10 test node: go to node 11 if X[:, 8] <= 1700039.5s else to node 12.\n",
      "\t\t\t\t\tnode=11 leaf node.\n",
      "\t\t\t\t\tnode=12 leaf node.\n",
      "\t\t\tnode=13 leaf node.\n",
      "\t\t\tnode=14 leaf node.\n",
      "\n",
      "Rules used to predict sample 0: \n",
      "decision id node 7 : (X[0, -2] (= 28880900.0) > -2.0)\n",
      "\n",
      "The following samples [0, 1] share the node [0 1 7] in the tree\n",
      "It is 20.0 % of all nodes.\n"
     ]
    },
    {
     "name": "stderr",
     "output_type": "stream",
     "text": [
      "/Users/cassiancorey/anaconda/lib/python3.5/site-packages/ipykernel/__main__.py:52: DeprecationWarning:\n",
      "\n",
      "using a non-integer number instead of an integer will result in an error in the future\n",
      "\n",
      "/Users/cassiancorey/anaconda/lib/python3.5/site-packages/ipykernel/__main__.py:48: DeprecationWarning:\n",
      "\n",
      "using a non-integer number instead of an integer will result in an error in the future\n",
      "\n"
     ]
    }
   ],
   "source": [
    "estimator = DecisionTreeClassifier(max_depth=4,max_leaf_nodes=8)\n",
    "estimator.fit(X_train, Y_train)\n",
    "\n",
    "# The decision estimator has an attribute called tree_  which stores the entire\n",
    "# tree structure and allows access to low level attributes. The binary tree\n",
    "# tree_ is represented as a number of parallel arrays. The i-th element of each\n",
    "# array holds information about the node `i`. Node 0 is the tree's root. NOTE:\n",
    "# Some of the arrays only apply to either leaves or split nodes, resp. In this\n",
    "# case the values of nodes of the other type are arbitrary!\n",
    "#\n",
    "# Among those arrays, we have:\n",
    "#   - left_child, id of the left child of the node\n",
    "#   - right_child, id of the right child of the node\n",
    "#   - feature, feature used for splitting the node\n",
    "#   - threshold, threshold value at the node\n",
    "#\n",
    "\n",
    "# Using those arrays, we can parse the tree structure:\n",
    "\n",
    "n_nodes = estimator.tree_.node_count\n",
    "children_left = estimator.tree_.children_left\n",
    "children_right = estimator.tree_.children_right\n",
    "feature = estimator.tree_.feature\n",
    "threshold = estimator.tree_.threshold\n",
    "\n",
    "\n",
    "# The tree structure can be traversed to compute various properties such\n",
    "# as the depth of each node and whether or not it is a leaf.\n",
    "node_depth = np.zeros(shape=n_nodes)\n",
    "is_leaves = np.zeros(shape=n_nodes, dtype=bool)\n",
    "stack = [(0, -1)]  # seed is the root node id and its parent depth\n",
    "while len(stack) > 0:\n",
    "    node_id, parent_depth = stack.pop()\n",
    "    node_depth[node_id] = parent_depth + 1\n",
    "\n",
    "    # If we have a test node\n",
    "    if (children_left[node_id] != children_right[node_id]):\n",
    "        stack.append((children_left[node_id], parent_depth + 1))\n",
    "        stack.append((children_right[node_id], parent_depth + 1))\n",
    "    else:\n",
    "        is_leaves[node_id] = True\n",
    "\n",
    "print(\"The binary tree structure has %s nodes and has \"\n",
    "      \"the following tree structure:\"\n",
    "      % n_nodes)\n",
    "for i in range(n_nodes):\n",
    "    if is_leaves[i]:\n",
    "        print(\"%snode=%s leaf node.\" % (node_depth[i] * \"\\t\", i))\n",
    "    else:\n",
    "        print(\"%snode=%s test node: go to node %s if X[:, %s] <= %ss else to \"\n",
    "              \"node %s.\"\n",
    "              % (node_depth[i] * \"\\t\",\n",
    "                 i,\n",
    "                 children_left[i],\n",
    "                 feature[i],\n",
    "                 threshold[i],\n",
    "                 children_right[i],\n",
    "                 ))\n",
    "print()\n",
    "\n",
    "# First let's retrieve the decision path of each sample. The decision_path\n",
    "# method allows to retrieve the node indicator functions. A non zero element of\n",
    "# indicator matrix at the position (i, j) indicates that the sample i goes\n",
    "# through the node j.\n",
    "\n",
    "node_indicator = estimator.decision_path(X_test)\n",
    "\n",
    "# Similarly, we can also have the leaves ids reached by each sample.\n",
    "\n",
    "leave_id = estimator.apply(X_test)\n",
    "\n",
    "# Now, it's possible to get the tests that were used to predict a sample or\n",
    "# a group of samples. First, let's make it for the sample.\n",
    "\n",
    "sample_id = 0\n",
    "node_index = node_indicator.indices[node_indicator.indptr[sample_id]:\n",
    "                                    node_indicator.indptr[sample_id + 1]]\n",
    "\n",
    "print('Rules used to predict sample %s: ' % sample_id)\n",
    "for node_id in node_index:\n",
    "    if leave_id[sample_id] != node_id:\n",
    "        continue\n",
    "\n",
    "    if (X_test[sample_id, feature[node_id]] <= threshold[node_id]):\n",
    "        threshold_sign = \"<=\"\n",
    "    else:\n",
    "        threshold_sign = \">\"\n",
    "\n",
    "    print(\"decision id node %s : (X[%s, %s] (= %s) %s %s)\"\n",
    "          % (node_id,\n",
    "             sample_id,\n",
    "             feature[node_id],\n",
    "             X_test[i, feature[node_id]],\n",
    "             threshold_sign,\n",
    "             threshold[node_id]))\n",
    "\n",
    "# For a group of samples, we have the following common node.\n",
    "sample_ids = [0, 1]\n",
    "common_nodes = (node_indicator.toarray()[sample_ids].sum(axis=0) ==\n",
    "                len(sample_ids))\n",
    "\n",
    "common_node_id = np.arange(n_nodes)[common_nodes]\n",
    "\n",
    "print(\"\\nThe following samples %s share the node %s in the tree\"\n",
    "      % (sample_ids, common_node_id))\n",
    "print(\"It is %s %% of all nodes.\" % (100 * len(common_node_id) / n_nodes,))"
   ]
  },
  {
   "cell_type": "code",
   "execution_count": 27,
   "metadata": {
    "collapsed": false
   },
   "outputs": [
    {
     "data": {
      "text/plain": [
       "array([12])"
      ]
     },
     "execution_count": 27,
     "metadata": {},
     "output_type": "execute_result"
    }
   ],
   "source": [
    "estimator.apply([X_train[1]])"
   ]
  },
  {
   "cell_type": "code",
   "execution_count": 28,
   "metadata": {
    "collapsed": false
   },
   "outputs": [
    {
     "data": {
      "text/plain": [
       "1.0"
      ]
     },
     "execution_count": 28,
     "metadata": {},
     "output_type": "execute_result"
    }
   ],
   "source": [
    "Y_train[1]"
   ]
  }
 ],
 "metadata": {
  "kernelspec": {
   "display_name": "Python 3",
   "language": "python",
   "name": "python3"
  },
  "language_info": {
   "codemirror_mode": {
    "name": "ipython",
    "version": 3
   },
   "file_extension": ".py",
   "mimetype": "text/x-python",
   "name": "python",
   "nbconvert_exporter": "python",
   "pygments_lexer": "ipython3",
   "version": "3.5.1"
  }
 },
 "nbformat": 4,
 "nbformat_minor": 0
}
